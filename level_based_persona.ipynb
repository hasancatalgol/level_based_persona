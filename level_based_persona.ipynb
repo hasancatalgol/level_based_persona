{
  "cells": [
    {
      "cell_type": "markdown",
      "metadata": {
        "id": "view-in-github",
        "colab_type": "text"
      },
      "source": [
        "<a href=\"https://colab.research.google.com/github/hasancatalgol/level_based_persona/blob/main/level_based_persona.ipynb\" target=\"_parent\"><img src=\"https://colab.research.google.com/assets/colab-badge.svg\" alt=\"Open In Colab\"/></a>"
      ]
    },
    {
      "cell_type": "markdown",
      "id": "653056ef",
      "metadata": {
        "id": "653056ef"
      },
      "source": [
        "# Level Based Persona\n",
        "## Simple Segmentation & Rule Based Classification\n",
        "\n",
        "## Overview\n",
        "\n",
        "Our goal is to make groupings for customers that exist individually. Then it is to segment these groups. Finally, it is trying to determine which of these segments a new customer belongs to. **We won't be appling any machine learning algorithms to solve this problem.** Segmentation will be rule based and we will be defining those rules.\n",
        "\n",
        "### Goal: \n",
        "Thinking about the concept of persona.\n",
        "To be able to define new customers according to the levels.\n",
        "Simply segment new customer definitions using the qcut function.\n",
        "When a new customer arrives, classify them according to segments.\n",
        "\n",
        "\n",
        "\n",
        "\n",
        "---\n",
        "----\n",
        "\n",
        "## Part One: Understanding the Background and Data\n",
        "\n",
        "Source of data is a well-known Turkish clothing company which manufactures clothes for every gender and for every age. The products are decent quality and the main goal of the company is to reach as many people by adjusting the price range affordable"
      ]
    },
    {
      "cell_type": "markdown",
      "id": "3e3c5f58",
      "metadata": {
        "id": "3e3c5f58"
      },
      "source": [
        "----\n",
        "\n",
        "\n",
        "### The Data\n",
        "\n",
        "There are two different tables showing the characteristics and transaction information of the customers.\n",
        "\n",
        "#### users.csv"
      ]
    },
    {
      "cell_type": "markdown",
      "id": "5f9bc418",
      "metadata": {
        "id": "5f9bc418"
      },
      "source": [
        "-----\n",
        "\n",
        "`users.csv` contains characteristics of customers"
      ]
    },
    {
      "cell_type": "markdown",
      "id": "187d4bfb",
      "metadata": {
        "id": "187d4bfb"
      },
      "source": [
        "Column | Definition | Type of Variable\n",
        ":--- | :-----------: | :-----------------:\n",
        "uid | Unique ID belonging to customers | Numeric\n",
        "reg_date | Registration dates of customers | Numeric\n",
        "device | Devices used by customers ( Android, iOS ) | Nominal\n",
        "gender | Genders of customers | Nominal\n",
        "country | Countries where customers reside |Nominal\n",
        "age |  Ages of customers | Numeric"
      ]
    },
    {
      "cell_type": "markdown",
      "id": "fb17d1de",
      "metadata": {
        "id": "fb17d1de"
      },
      "source": [
        "----\n",
        "----\n",
        "\n",
        "#### purchases.csv"
      ]
    },
    {
      "cell_type": "markdown",
      "id": "53b17aeb",
      "metadata": {
        "id": "53b17aeb"
      },
      "source": [
        "`purchases.csv` contains transaction information of the customers.\n",
        "\n",
        "Column | Definiton\n",
        ":--- | :---------:\n",
        "uid | Unique ID belonging to every customer\n",
        "date | Purchase date of customer\n",
        "price |  Amount spent by customer"
      ]
    },
    {
      "cell_type": "markdown",
      "id": "3e221a7a",
      "metadata": {
        "id": "3e221a7a"
      },
      "source": [
        "**Import libraries**"
      ]
    },
    {
      "cell_type": "code",
      "execution_count": 1,
      "id": "75109cbe",
      "metadata": {
        "id": "75109cbe"
      },
      "outputs": [],
      "source": [
        "import warnings\n",
        "import pandas as pd\n",
        "from matplotlib import pyplot as plt\n",
        "import seaborn as sns\n",
        "warnings.filterwarnings('ignore')"
      ]
    },
    {
      "cell_type": "markdown",
      "id": "ee2527d4",
      "metadata": {
        "id": "ee2527d4"
      },
      "source": [
        "**Read \"users.csv\" and \"purchases.csv\" files**"
      ]
    },
    {
      "cell_type": "code",
      "execution_count": 2,
      "id": "7088c32c",
      "metadata": {
        "id": "7088c32c"
      },
      "outputs": [],
      "source": [
        "users = pd.read_csv('https://github.com/hasancatalgol/level_based_persona/raw/main/Data/users.csv')\n",
        "purchases = pd.read_csv('https://github.com/hasancatalgol/level_based_persona/raw/main/Data/purchases.csv')\n",
        "\n",
        "#users = pd.read_csv('Data/users.csv')\n",
        "#purchases = pd.read_csv('Data/purchases.csv')"
      ]
    },
    {
      "cell_type": "markdown",
      "id": "3753a989",
      "metadata": {
        "id": "3753a989"
      },
      "source": [
        "**Inner join both data files on \"uid\"**"
      ]
    },
    {
      "cell_type": "code",
      "execution_count": 3,
      "id": "a8430dda",
      "metadata": {
        "id": "a8430dda"
      },
      "outputs": [],
      "source": [
        "df = purchases.merge(users, how = \"inner\", on = \"uid\")"
      ]
    },
    {
      "cell_type": "markdown",
      "id": "0b729a0f",
      "metadata": {
        "id": "0b729a0f"
      },
      "source": [
        "**Explore the DataFrame Properties and Head.**"
      ]
    },
    {
      "cell_type": "code",
      "execution_count": 4,
      "id": "f0b7d788",
      "metadata": {
        "id": "f0b7d788",
        "outputId": "98dcdef4-c806-4433-e9c8-b86111b27908",
        "colab": {
          "base_uri": "https://localhost:8080/",
          "height": 206
        }
      },
      "outputs": [
        {
          "output_type": "execute_result",
          "data": {
            "text/plain": [
              "         date       uid  price              reg_date device gender country  \\\n",
              "0  2017-07-10  41195147    499  2017-06-26T00:00:00Z    and      M     BRA   \n",
              "1  2017-07-15  41195147    499  2017-06-26T00:00:00Z    and      M     BRA   \n",
              "2  2017-11-12  41195147    599  2017-06-26T00:00:00Z    and      M     BRA   \n",
              "3  2017-09-26  91591874    299  2017-01-05T00:00:00Z    and      M     TUR   \n",
              "4  2017-12-01  91591874    599  2017-01-05T00:00:00Z    and      M     TUR   \n",
              "\n",
              "   age  \n",
              "0   17  \n",
              "1   17  \n",
              "2   17  \n",
              "3   17  \n",
              "4   17  "
            ],
            "text/html": [
              "\n",
              "  <div id=\"df-71536872-40f5-44fe-b0a4-e5b2b7e626ad\">\n",
              "    <div class=\"colab-df-container\">\n",
              "      <div>\n",
              "<style scoped>\n",
              "    .dataframe tbody tr th:only-of-type {\n",
              "        vertical-align: middle;\n",
              "    }\n",
              "\n",
              "    .dataframe tbody tr th {\n",
              "        vertical-align: top;\n",
              "    }\n",
              "\n",
              "    .dataframe thead th {\n",
              "        text-align: right;\n",
              "    }\n",
              "</style>\n",
              "<table border=\"1\" class=\"dataframe\">\n",
              "  <thead>\n",
              "    <tr style=\"text-align: right;\">\n",
              "      <th></th>\n",
              "      <th>date</th>\n",
              "      <th>uid</th>\n",
              "      <th>price</th>\n",
              "      <th>reg_date</th>\n",
              "      <th>device</th>\n",
              "      <th>gender</th>\n",
              "      <th>country</th>\n",
              "      <th>age</th>\n",
              "    </tr>\n",
              "  </thead>\n",
              "  <tbody>\n",
              "    <tr>\n",
              "      <th>0</th>\n",
              "      <td>2017-07-10</td>\n",
              "      <td>41195147</td>\n",
              "      <td>499</td>\n",
              "      <td>2017-06-26T00:00:00Z</td>\n",
              "      <td>and</td>\n",
              "      <td>M</td>\n",
              "      <td>BRA</td>\n",
              "      <td>17</td>\n",
              "    </tr>\n",
              "    <tr>\n",
              "      <th>1</th>\n",
              "      <td>2017-07-15</td>\n",
              "      <td>41195147</td>\n",
              "      <td>499</td>\n",
              "      <td>2017-06-26T00:00:00Z</td>\n",
              "      <td>and</td>\n",
              "      <td>M</td>\n",
              "      <td>BRA</td>\n",
              "      <td>17</td>\n",
              "    </tr>\n",
              "    <tr>\n",
              "      <th>2</th>\n",
              "      <td>2017-11-12</td>\n",
              "      <td>41195147</td>\n",
              "      <td>599</td>\n",
              "      <td>2017-06-26T00:00:00Z</td>\n",
              "      <td>and</td>\n",
              "      <td>M</td>\n",
              "      <td>BRA</td>\n",
              "      <td>17</td>\n",
              "    </tr>\n",
              "    <tr>\n",
              "      <th>3</th>\n",
              "      <td>2017-09-26</td>\n",
              "      <td>91591874</td>\n",
              "      <td>299</td>\n",
              "      <td>2017-01-05T00:00:00Z</td>\n",
              "      <td>and</td>\n",
              "      <td>M</td>\n",
              "      <td>TUR</td>\n",
              "      <td>17</td>\n",
              "    </tr>\n",
              "    <tr>\n",
              "      <th>4</th>\n",
              "      <td>2017-12-01</td>\n",
              "      <td>91591874</td>\n",
              "      <td>599</td>\n",
              "      <td>2017-01-05T00:00:00Z</td>\n",
              "      <td>and</td>\n",
              "      <td>M</td>\n",
              "      <td>TUR</td>\n",
              "      <td>17</td>\n",
              "    </tr>\n",
              "  </tbody>\n",
              "</table>\n",
              "</div>\n",
              "      <button class=\"colab-df-convert\" onclick=\"convertToInteractive('df-71536872-40f5-44fe-b0a4-e5b2b7e626ad')\"\n",
              "              title=\"Convert this dataframe to an interactive table.\"\n",
              "              style=\"display:none;\">\n",
              "        \n",
              "  <svg xmlns=\"http://www.w3.org/2000/svg\" height=\"24px\"viewBox=\"0 0 24 24\"\n",
              "       width=\"24px\">\n",
              "    <path d=\"M0 0h24v24H0V0z\" fill=\"none\"/>\n",
              "    <path d=\"M18.56 5.44l.94 2.06.94-2.06 2.06-.94-2.06-.94-.94-2.06-.94 2.06-2.06.94zm-11 1L8.5 8.5l.94-2.06 2.06-.94-2.06-.94L8.5 2.5l-.94 2.06-2.06.94zm10 10l.94 2.06.94-2.06 2.06-.94-2.06-.94-.94-2.06-.94 2.06-2.06.94z\"/><path d=\"M17.41 7.96l-1.37-1.37c-.4-.4-.92-.59-1.43-.59-.52 0-1.04.2-1.43.59L10.3 9.45l-7.72 7.72c-.78.78-.78 2.05 0 2.83L4 21.41c.39.39.9.59 1.41.59.51 0 1.02-.2 1.41-.59l7.78-7.78 2.81-2.81c.8-.78.8-2.07 0-2.86zM5.41 20L4 18.59l7.72-7.72 1.47 1.35L5.41 20z\"/>\n",
              "  </svg>\n",
              "      </button>\n",
              "      \n",
              "  <style>\n",
              "    .colab-df-container {\n",
              "      display:flex;\n",
              "      flex-wrap:wrap;\n",
              "      gap: 12px;\n",
              "    }\n",
              "\n",
              "    .colab-df-convert {\n",
              "      background-color: #E8F0FE;\n",
              "      border: none;\n",
              "      border-radius: 50%;\n",
              "      cursor: pointer;\n",
              "      display: none;\n",
              "      fill: #1967D2;\n",
              "      height: 32px;\n",
              "      padding: 0 0 0 0;\n",
              "      width: 32px;\n",
              "    }\n",
              "\n",
              "    .colab-df-convert:hover {\n",
              "      background-color: #E2EBFA;\n",
              "      box-shadow: 0px 1px 2px rgba(60, 64, 67, 0.3), 0px 1px 3px 1px rgba(60, 64, 67, 0.15);\n",
              "      fill: #174EA6;\n",
              "    }\n",
              "\n",
              "    [theme=dark] .colab-df-convert {\n",
              "      background-color: #3B4455;\n",
              "      fill: #D2E3FC;\n",
              "    }\n",
              "\n",
              "    [theme=dark] .colab-df-convert:hover {\n",
              "      background-color: #434B5C;\n",
              "      box-shadow: 0px 1px 3px 1px rgba(0, 0, 0, 0.15);\n",
              "      filter: drop-shadow(0px 1px 2px rgba(0, 0, 0, 0.3));\n",
              "      fill: #FFFFFF;\n",
              "    }\n",
              "  </style>\n",
              "\n",
              "      <script>\n",
              "        const buttonEl =\n",
              "          document.querySelector('#df-71536872-40f5-44fe-b0a4-e5b2b7e626ad button.colab-df-convert');\n",
              "        buttonEl.style.display =\n",
              "          google.colab.kernel.accessAllowed ? 'block' : 'none';\n",
              "\n",
              "        async function convertToInteractive(key) {\n",
              "          const element = document.querySelector('#df-71536872-40f5-44fe-b0a4-e5b2b7e626ad');\n",
              "          const dataTable =\n",
              "            await google.colab.kernel.invokeFunction('convertToInteractive',\n",
              "                                                     [key], {});\n",
              "          if (!dataTable) return;\n",
              "\n",
              "          const docLinkHtml = 'Like what you see? Visit the ' +\n",
              "            '<a target=\"_blank\" href=https://colab.research.google.com/notebooks/data_table.ipynb>data table notebook</a>'\n",
              "            + ' to learn more about interactive tables.';\n",
              "          element.innerHTML = '';\n",
              "          dataTable['output_type'] = 'display_data';\n",
              "          await google.colab.output.renderOutput(dataTable, element);\n",
              "          const docLink = document.createElement('div');\n",
              "          docLink.innerHTML = docLinkHtml;\n",
              "          element.appendChild(docLink);\n",
              "        }\n",
              "      </script>\n",
              "    </div>\n",
              "  </div>\n",
              "  "
            ]
          },
          "metadata": {},
          "execution_count": 4
        }
      ],
      "source": [
        "df.head()"
      ]
    },
    {
      "cell_type": "code",
      "execution_count": 5,
      "id": "2c51398e",
      "metadata": {
        "id": "2c51398e",
        "outputId": "ff1d666e-6a2f-4aa4-d8dc-e7e58a1559a9",
        "colab": {
          "base_uri": "https://localhost:8080/"
        }
      },
      "outputs": [
        {
          "output_type": "stream",
          "name": "stdout",
          "text": [
            "<class 'pandas.core.frame.DataFrame'>\n",
            "Int64Index: 9006 entries, 0 to 9005\n",
            "Data columns (total 8 columns):\n",
            " #   Column    Non-Null Count  Dtype \n",
            "---  ------    --------------  ----- \n",
            " 0   date      9006 non-null   object\n",
            " 1   uid       9006 non-null   int64 \n",
            " 2   price     9006 non-null   int64 \n",
            " 3   reg_date  9006 non-null   object\n",
            " 4   device    9006 non-null   object\n",
            " 5   gender    9006 non-null   object\n",
            " 6   country   9006 non-null   object\n",
            " 7   age       9006 non-null   int64 \n",
            "dtypes: int64(3), object(5)\n",
            "memory usage: 633.2+ KB\n"
          ]
        }
      ],
      "source": [
        "df.info()"
      ]
    },
    {
      "cell_type": "markdown",
      "id": "c5735e53",
      "metadata": {
        "id": "c5735e53"
      },
      "source": [
        "## Part Two: Exploring Data Frame\n",
        "\n",
        "Let's first explore our dataframe and ask relevant questions to understand both tables much better"
      ]
    },
    {
      "cell_type": "markdown",
      "id": "d8fdf445",
      "metadata": {
        "id": "d8fdf445"
      },
      "source": [
        "**How many unique customers are in the dataset?**"
      ]
    },
    {
      "cell_type": "code",
      "execution_count": 6,
      "id": "ac3a44a0",
      "metadata": {
        "id": "ac3a44a0",
        "outputId": "6133f3b7-1313-4c6e-9ec3-b7459f2677e4",
        "colab": {
          "base_uri": "https://localhost:8080/"
        }
      },
      "outputs": [
        {
          "output_type": "execute_result",
          "data": {
            "text/plain": [
              "1322"
            ]
          },
          "metadata": {},
          "execution_count": 6
        }
      ],
      "source": [
        "df[\"uid\"].nunique()"
      ]
    },
    {
      "cell_type": "markdown",
      "id": "699ec27e",
      "metadata": {
        "id": "699ec27e"
      },
      "source": [
        "**How many unique prices in the dataset?**"
      ]
    },
    {
      "cell_type": "code",
      "execution_count": 7,
      "id": "2614d747",
      "metadata": {
        "id": "2614d747",
        "outputId": "3b822add-91a6-4b22-9e95-04a1537bd3fb",
        "colab": {
          "base_uri": "https://localhost:8080/"
        }
      },
      "outputs": [
        {
          "output_type": "execute_result",
          "data": {
            "text/plain": [
              "6"
            ]
          },
          "metadata": {},
          "execution_count": 7
        }
      ],
      "source": [
        "df[\"price\"].nunique()"
      ]
    },
    {
      "cell_type": "markdown",
      "id": "f822143b",
      "metadata": {
        "id": "f822143b"
      },
      "source": [
        "**What are the total sales for each price tag?**"
      ]
    },
    {
      "cell_type": "code",
      "execution_count": 8,
      "id": "68f3eff1",
      "metadata": {
        "id": "68f3eff1",
        "outputId": "1b82e64b-3fbe-4164-d62e-65615ca8d478",
        "colab": {
          "base_uri": "https://localhost:8080/"
        }
      },
      "outputs": [
        {
          "output_type": "execute_result",
          "data": {
            "text/plain": [
              "299    2347\n",
              "499    2242\n",
              "599    1848\n",
              "199    1840\n",
              "899     372\n",
              "99      357\n",
              "Name: price, dtype: int64"
            ]
          },
          "metadata": {},
          "execution_count": 8
        }
      ],
      "source": [
        "df[\"price\"].value_counts()"
      ]
    },
    {
      "cell_type": "markdown",
      "id": "e1053313",
      "metadata": {
        "id": "e1053313"
      },
      "source": [
        "**What is the total amount of sales for each country?**"
      ]
    },
    {
      "cell_type": "code",
      "execution_count": 9,
      "id": "a4c01589",
      "metadata": {
        "id": "a4c01589",
        "outputId": "3f6ce7f6-bf60-42b8-e2ba-32b393364542",
        "colab": {
          "base_uri": "https://localhost:8080/"
        }
      },
      "outputs": [
        {
          "output_type": "execute_result",
          "data": {
            "text/plain": [
              "USA    3650\n",
              "BRA    2694\n",
              "DEU     915\n",
              "TUR     804\n",
              "FRA     544\n",
              "CAN     399\n",
              "Name: country, dtype: int64"
            ]
          },
          "metadata": {},
          "execution_count": 9
        }
      ],
      "source": [
        "df[\"country\"].value_counts()"
      ]
    },
    {
      "cell_type": "markdown",
      "id": "5b20b598",
      "metadata": {
        "id": "5b20b598"
      },
      "source": [
        "**Net sales for each country**"
      ]
    },
    {
      "cell_type": "code",
      "execution_count": 10,
      "id": "6554dbcd",
      "metadata": {
        "id": "6554dbcd",
        "outputId": "eab16675-2a04-4a22-bf0b-e1b8115b2b4c",
        "colab": {
          "base_uri": "https://localhost:8080/",
          "height": 592
        }
      },
      "outputs": [
        {
          "output_type": "display_data",
          "data": {
            "text/plain": [
              "<Figure size 1500x600 with 1 Axes>"
            ],
            "image/png": "[encoded data removed]"
          },
          "metadata": {}
        }
      ],
      "source": [
        "#Plot Configurations\n",
        "plt.figure(figsize=(10,4),dpi=150)\n",
        "#Plot Logic\n",
        "total_sales = df.groupby([\"country\"]).agg({\"price\": \"sum\"}).sort_values('price', ascending=False) \n",
        "total_sales.reset_index(inplace=True)\n",
        "sns.barplot(x='country', y='price', data=total_sales, palette='magma').set(title='Sales by countries');"
      ]
    },
    {
      "cell_type": "code",
      "execution_count": 11,
      "id": "fb660f54",
      "metadata": {
        "id": "fb660f54",
        "outputId": "dfb8bf14-d362-46c1-82c7-9aadae47384d",
        "colab": {
          "base_uri": "https://localhost:8080/",
          "height": 238
        }
      },
      "outputs": [
        {
          "output_type": "execute_result",
          "data": {
            "text/plain": [
              "  country    price\n",
              "0     USA  1473550\n",
              "1     BRA  1104106\n",
              "2     DEU   374285\n",
              "3     TUR   333996\n",
              "4     FRA   218556\n",
              "5     CAN   158901"
            ],
            "text/html": [
              "\n",
              "  <div id=\"df-0b0e2452-83b5-406e-830d-2ad7eeacdbc8\">\n",
              "    <div class=\"colab-df-container\">\n",
              "      <div>\n",
              "<style scoped>\n",
              "    .dataframe tbody tr th:only-of-type {\n",
              "        vertical-align: middle;\n",
              "    }\n",
              "\n",
              "    .dataframe tbody tr th {\n",
              "        vertical-align: top;\n",
              "    }\n",
              "\n",
              "    .dataframe thead th {\n",
              "        text-align: right;\n",
              "    }\n",
              "</style>\n",
              "<table border=\"1\" class=\"dataframe\">\n",
              "  <thead>\n",
              "    <tr style=\"text-align: right;\">\n",
              "      <th></th>\n",
              "      <th>country</th>\n",
              "      <th>price</th>\n",
              "    </tr>\n",
              "  </thead>\n",
              "  <tbody>\n",
              "    <tr>\n",
              "      <th>0</th>\n",
              "      <td>USA</td>\n",
              "      <td>1473550</td>\n",
              "    </tr>\n",
              "    <tr>\n",
              "      <th>1</th>\n",
              "      <td>BRA</td>\n",
              "      <td>1104106</td>\n",
              "    </tr>\n",
              "    <tr>\n",
              "      <th>2</th>\n",
              "      <td>DEU</td>\n",
              "      <td>374285</td>\n",
              "    </tr>\n",
              "    <tr>\n",
              "      <th>3</th>\n",
              "      <td>TUR</td>\n",
              "      <td>333996</td>\n",
              "    </tr>\n",
              "    <tr>\n",
              "      <th>4</th>\n",
              "      <td>FRA</td>\n",
              "      <td>218556</td>\n",
              "    </tr>\n",
              "    <tr>\n",
              "      <th>5</th>\n",
              "      <td>CAN</td>\n",
              "      <td>158901</td>\n",
              "    </tr>\n",
              "  </tbody>\n",
              "</table>\n",
              "</div>\n",
              "      <button class=\"colab-df-convert\" onclick=\"convertToInteractive('df-0b0e2452-83b5-406e-830d-2ad7eeacdbc8')\"\n",
              "              title=\"Convert this dataframe to an interactive table.\"\n",
              "              style=\"display:none;\">\n",
              "        \n",
              "  <svg xmlns=\"http://www.w3.org/2000/svg\" height=\"24px\"viewBox=\"0 0 24 24\"\n",
              "       width=\"24px\">\n",
              "    <path d=\"M0 0h24v24H0V0z\" fill=\"none\"/>\n",
              "    <path d=\"M18.56 5.44l.94 2.06.94-2.06 2.06-.94-2.06-.94-.94-2.06-.94 2.06-2.06.94zm-11 1L8.5 8.5l.94-2.06 2.06-.94-2.06-.94L8.5 2.5l-.94 2.06-2.06.94zm10 10l.94 2.06.94-2.06 2.06-.94-2.06-.94-.94-2.06-.94 2.06-2.06.94z\"/><path d=\"M17.41 7.96l-1.37-1.37c-.4-.4-.92-.59-1.43-.59-.52 0-1.04.2-1.43.59L10.3 9.45l-7.72 7.72c-.78.78-.78 2.05 0 2.83L4 21.41c.39.39.9.59 1.41.59.51 0 1.02-.2 1.41-.59l7.78-7.78 2.81-2.81c.8-.78.8-2.07 0-2.86zM5.41 20L4 18.59l7.72-7.72 1.47 1.35L5.41 20z\"/>\n",
              "  </svg>\n",
              "      </button>\n",
              "      \n",
              "  <style>\n",
              "    .colab-df-container {\n",
              "      display:flex;\n",
              "      flex-wrap:wrap;\n",
              "      gap: 12px;\n",
              "    }\n",
              "\n",
              "    .colab-df-convert {\n",
              "      background-color: #E8F0FE;\n",
              "      border: none;\n",
              "      border-radius: 50%;\n",
              "      cursor: pointer;\n",
              "      display: none;\n",
              "      fill: #1967D2;\n",
              "      height: 32px;\n",
              "      padding: 0 0 0 0;\n",
              "      width: 32px;\n",
              "    }\n",
              "\n",
              "    .colab-df-convert:hover {\n",
              "      background-color: #E2EBFA;\n",
              "      box-shadow: 0px 1px 2px rgba(60, 64, 67, 0.3), 0px 1px 3px 1px rgba(60, 64, 67, 0.15);\n",
              "      fill: #174EA6;\n",
              "    }\n",
              "\n",
              "    [theme=dark] .colab-df-convert {\n",
              "      background-color: #3B4455;\n",
              "      fill: #D2E3FC;\n",
              "    }\n",
              "\n",
              "    [theme=dark] .colab-df-convert:hover {\n",
              "      background-color: #434B5C;\n",
              "      box-shadow: 0px 1px 3px 1px rgba(0, 0, 0, 0.15);\n",
              "      filter: drop-shadow(0px 1px 2px rgba(0, 0, 0, 0.3));\n",
              "      fill: #FFFFFF;\n",
              "    }\n",
              "  </style>\n",
              "\n",
              "      <script>\n",
              "        const buttonEl =\n",
              "          document.querySelector('#df-0b0e2452-83b5-406e-830d-2ad7eeacdbc8 button.colab-df-convert');\n",
              "        buttonEl.style.display =\n",
              "          google.colab.kernel.accessAllowed ? 'block' : 'none';\n",
              "\n",
              "        async function convertToInteractive(key) {\n",
              "          const element = document.querySelector('#df-0b0e2452-83b5-406e-830d-2ad7eeacdbc8');\n",
              "          const dataTable =\n",
              "            await google.colab.kernel.invokeFunction('convertToInteractive',\n",
              "                                                     [key], {});\n",
              "          if (!dataTable) return;\n",
              "\n",
              "          const docLinkHtml = 'Like what you see? Visit the ' +\n",
              "            '<a target=\"_blank\" href=https://colab.research.google.com/notebooks/data_table.ipynb>data table notebook</a>'\n",
              "            + ' to learn more about interactive tables.';\n",
              "          element.innerHTML = '';\n",
              "          dataTable['output_type'] = 'display_data';\n",
              "          await google.colab.output.renderOutput(dataTable, element);\n",
              "          const docLink = document.createElement('div');\n",
              "          docLink.innerHTML = docLinkHtml;\n",
              "          element.appendChild(docLink);\n",
              "        }\n",
              "      </script>\n",
              "    </div>\n",
              "  </div>\n",
              "  "
            ]
          },
          "metadata": {},
          "execution_count": 11
        }
      ],
      "source": [
        "total_sales"
      ]
    },
    {
      "cell_type": "markdown",
      "id": "33066a5e",
      "metadata": {
        "id": "33066a5e"
      },
      "source": [
        "**Net total sales for each OS(Operating System)**"
      ]
    },
    {
      "cell_type": "code",
      "execution_count": 12,
      "id": "6c4d7ff0",
      "metadata": {
        "scrolled": false,
        "id": "6c4d7ff0",
        "outputId": "e0cae6d6-2a91-41d1-f8c4-f82dec114f81",
        "colab": {
          "base_uri": "https://localhost:8080/",
          "height": 583
        }
      },
      "outputs": [
        {
          "output_type": "display_data",
          "data": {
            "text/plain": [
              "<Figure size 1500x600 with 1 Axes>"
            ],
            "image/png": "[encoded data removed]"
          },
          "metadata": {}
        }
      ],
      "source": [
        "#Plot Configurations\n",
        "plt.figure(figsize=(10,4),dpi=150)\n",
        "#Plot Logic\n",
        "device_price = df.groupby([\"device\"]).agg({\"price\": \"sum\"}).sort_values('price', ascending=False) \n",
        "device_price.reset_index(inplace=True)\n",
        "sns.barplot(x='device', y='price', data=device_price, palette='magma');\n",
        "plt.show()"
      ]
    },
    {
      "cell_type": "markdown",
      "id": "edb15753",
      "metadata": {
        "id": "edb15753"
      },
      "source": [
        "**Net mean sales for each OS(Operating System)**"
      ]
    },
    {
      "cell_type": "code",
      "execution_count": 13,
      "id": "4bfaa08a",
      "metadata": {
        "id": "4bfaa08a",
        "outputId": "f0498103-ba85-4998-dd60-8bed356aad5d",
        "colab": {
          "base_uri": "https://localhost:8080/",
          "height": 558
        }
      },
      "outputs": [
        {
          "output_type": "display_data",
          "data": {
            "text/plain": [
              "<Figure size 1500x600 with 1 Axes>"
            ],
            "image/png": "[encoded data removed]"
          },
          "metadata": {}
        }
      ],
      "source": [
        "#Plot Configurations\n",
        "plt.figure(figsize=(10,4),dpi=150)\n",
        "#Plot Logic\n",
        "device_price = df.groupby([\"device\"]).agg({\"price\": \"mean\"}).sort_values('price', ascending=False) \n",
        "device_price.reset_index(inplace=True)\n",
        "sns.barplot(x='device', y='price', data=device_price, palette='magma');\n",
        "plt.show()"
      ]
    },
    {
      "cell_type": "markdown",
      "id": "408d1b83",
      "metadata": {
        "id": "408d1b83"
      },
      "source": [
        "**Mean sales by each country**"
      ]
    },
    {
      "cell_type": "code",
      "execution_count": 14,
      "id": "40e12a77",
      "metadata": {
        "scrolled": true,
        "id": "40e12a77",
        "outputId": "8b8feea7-0dd9-477b-ce18-4d3dceb6769c",
        "colab": {
          "base_uri": "https://localhost:8080/",
          "height": 442
        }
      },
      "outputs": [
        {
          "output_type": "display_data",
          "data": {
            "text/plain": [
              "<Figure size 1950x600 with 1 Axes>"
            ],
            "image/png": "[encoded data removed]"
          },
          "metadata": {}
        }
      ],
      "source": [
        "#Plot Configurations\n",
        "plt.figure(figsize=(13,4),dpi=150)\n",
        "#Plot Logic\n",
        "country_sales = df.groupby([\"country\"]).agg({\"price\": \"mean\"}).sort_values('price', ascending=False) \n",
        "country_sales.reset_index(inplace=True)\n",
        "sns.barplot(x='country', y='price', data=country_sales, palette='magma');"
      ]
    },
    {
      "cell_type": "markdown",
      "id": "86e1dd33",
      "metadata": {
        "id": "86e1dd33"
      },
      "source": [
        "**Total earnings in \"country\", \"device\", \"gender\" and \"age\" breakdown**"
      ]
    },
    {
      "cell_type": "code",
      "execution_count": 15,
      "id": "370728cb",
      "metadata": {
        "id": "370728cb",
        "outputId": "1527a4ce-e78f-4203-de12-acbe63d41e4c",
        "colab": {
          "base_uri": "https://localhost:8080/",
          "height": 424
        }
      },
      "outputs": [
        {
          "output_type": "execute_result",
          "data": {
            "text/plain": [
              "    country device gender  age  price\n",
              "0       FRA    and      F   24  899.0\n",
              "1       TUR    and      M   18  899.0\n",
              "2       BRA    and      M   46  899.0\n",
              "3       DEU    and      F   51  599.0\n",
              "4       USA    iOS      M   24  599.0\n",
              "..      ...    ...    ...  ...    ...\n",
              "445     USA    and      F   60  199.0\n",
              "446     BRA    iOS      F   34  199.0\n",
              "447     USA    iOS      F   38  199.0\n",
              "448     TUR    and      M   21  199.0\n",
              "449     DEU    and      M   26   99.0\n",
              "\n",
              "[450 rows x 5 columns]"
            ],
            "text/html": [
              "\n",
              "  <div id=\"df-46a1273c-00e4-4ef1-b7d2-3abb0e596440\">\n",
              "    <div class=\"colab-df-container\">\n",
              "      <div>\n",
              "<style scoped>\n",
              "    .dataframe tbody tr th:only-of-type {\n",
              "        vertical-align: middle;\n",
              "    }\n",
              "\n",
              "    .dataframe tbody tr th {\n",
              "        vertical-align: top;\n",
              "    }\n",
              "\n",
              "    .dataframe thead th {\n",
              "        text-align: right;\n",
              "    }\n",
              "</style>\n",
              "<table border=\"1\" class=\"dataframe\">\n",
              "  <thead>\n",
              "    <tr style=\"text-align: right;\">\n",
              "      <th></th>\n",
              "      <th>country</th>\n",
              "      <th>device</th>\n",
              "      <th>gender</th>\n",
              "      <th>age</th>\n",
              "      <th>price</th>\n",
              "    </tr>\n",
              "  </thead>\n",
              "  <tbody>\n",
              "    <tr>\n",
              "      <th>0</th>\n",
              "      <td>FRA</td>\n",
              "      <td>and</td>\n",
              "      <td>F</td>\n",
              "      <td>24</td>\n",
              "      <td>899.0</td>\n",
              "    </tr>\n",
              "    <tr>\n",
              "      <th>1</th>\n",
              "      <td>TUR</td>\n",
              "      <td>and</td>\n",
              "      <td>M</td>\n",
              "      <td>18</td>\n",
              "      <td>899.0</td>\n",
              "    </tr>\n",
              "    <tr>\n",
              "      <th>2</th>\n",
              "      <td>BRA</td>\n",
              "      <td>and</td>\n",
              "      <td>M</td>\n",
              "      <td>46</td>\n",
              "      <td>899.0</td>\n",
              "    </tr>\n",
              "    <tr>\n",
              "      <th>3</th>\n",
              "      <td>DEU</td>\n",
              "      <td>and</td>\n",
              "      <td>F</td>\n",
              "      <td>51</td>\n",
              "      <td>599.0</td>\n",
              "    </tr>\n",
              "    <tr>\n",
              "      <th>4</th>\n",
              "      <td>USA</td>\n",
              "      <td>iOS</td>\n",
              "      <td>M</td>\n",
              "      <td>24</td>\n",
              "      <td>599.0</td>\n",
              "    </tr>\n",
              "    <tr>\n",
              "      <th>...</th>\n",
              "      <td>...</td>\n",
              "      <td>...</td>\n",
              "      <td>...</td>\n",
              "      <td>...</td>\n",
              "      <td>...</td>\n",
              "    </tr>\n",
              "    <tr>\n",
              "      <th>445</th>\n",
              "      <td>USA</td>\n",
              "      <td>and</td>\n",
              "      <td>F</td>\n",
              "      <td>60</td>\n",
              "      <td>199.0</td>\n",
              "    </tr>\n",
              "    <tr>\n",
              "      <th>446</th>\n",
              "      <td>BRA</td>\n",
              "      <td>iOS</td>\n",
              "      <td>F</td>\n",
              "      <td>34</td>\n",
              "      <td>199.0</td>\n",
              "    </tr>\n",
              "    <tr>\n",
              "      <th>447</th>\n",
              "      <td>USA</td>\n",
              "      <td>iOS</td>\n",
              "      <td>F</td>\n",
              "      <td>38</td>\n",
              "      <td>199.0</td>\n",
              "    </tr>\n",
              "    <tr>\n",
              "      <th>448</th>\n",
              "      <td>TUR</td>\n",
              "      <td>and</td>\n",
              "      <td>M</td>\n",
              "      <td>21</td>\n",
              "      <td>199.0</td>\n",
              "    </tr>\n",
              "    <tr>\n",
              "      <th>449</th>\n",
              "      <td>DEU</td>\n",
              "      <td>and</td>\n",
              "      <td>M</td>\n",
              "      <td>26</td>\n",
              "      <td>99.0</td>\n",
              "    </tr>\n",
              "  </tbody>\n",
              "</table>\n",
              "<p>450 rows × 5 columns</p>\n",
              "</div>\n",
              "      <button class=\"colab-df-convert\" onclick=\"convertToInteractive('df-46a1273c-00e4-4ef1-b7d2-3abb0e596440')\"\n",
              "              title=\"Convert this dataframe to an interactive table.\"\n",
              "              style=\"display:none;\">\n",
              "        \n",
              "  <svg xmlns=\"http://www.w3.org/2000/svg\" height=\"24px\"viewBox=\"0 0 24 24\"\n",
              "       width=\"24px\">\n",
              "    <path d=\"M0 0h24v24H0V0z\" fill=\"none\"/>\n",
              "    <path d=\"M18.56 5.44l.94 2.06.94-2.06 2.06-.94-2.06-.94-.94-2.06-.94 2.06-2.06.94zm-11 1L8.5 8.5l.94-2.06 2.06-.94-2.06-.94L8.5 2.5l-.94 2.06-2.06.94zm10 10l.94 2.06.94-2.06 2.06-.94-2.06-.94-.94-2.06-.94 2.06-2.06.94z\"/><path d=\"M17.41 7.96l-1.37-1.37c-.4-.4-.92-.59-1.43-.59-.52 0-1.04.2-1.43.59L10.3 9.45l-7.72 7.72c-.78.78-.78 2.05 0 2.83L4 21.41c.39.39.9.59 1.41.59.51 0 1.02-.2 1.41-.59l7.78-7.78 2.81-2.81c.8-.78.8-2.07 0-2.86zM5.41 20L4 18.59l7.72-7.72 1.47 1.35L5.41 20z\"/>\n",
              "  </svg>\n",
              "      </button>\n",
              "      \n",
              "  <style>\n",
              "    .colab-df-container {\n",
              "      display:flex;\n",
              "      flex-wrap:wrap;\n",
              "      gap: 12px;\n",
              "    }\n",
              "\n",
              "    .colab-df-convert {\n",
              "      background-color: #E8F0FE;\n",
              "      border: none;\n",
              "      border-radius: 50%;\n",
              "      cursor: pointer;\n",
              "      display: none;\n",
              "      fill: #1967D2;\n",
              "      height: 32px;\n",
              "      padding: 0 0 0 0;\n",
              "      width: 32px;\n",
              "    }\n",
              "\n",
              "    .colab-df-convert:hover {\n",
              "      background-color: #E2EBFA;\n",
              "      box-shadow: 0px 1px 2px rgba(60, 64, 67, 0.3), 0px 1px 3px 1px rgba(60, 64, 67, 0.15);\n",
              "      fill: #174EA6;\n",
              "    }\n",
              "\n",
              "    [theme=dark] .colab-df-convert {\n",
              "      background-color: #3B4455;\n",
              "      fill: #D2E3FC;\n",
              "    }\n",
              "\n",
              "    [theme=dark] .colab-df-convert:hover {\n",
              "      background-color: #434B5C;\n",
              "      box-shadow: 0px 1px 3px 1px rgba(0, 0, 0, 0.15);\n",
              "      filter: drop-shadow(0px 1px 2px rgba(0, 0, 0, 0.3));\n",
              "      fill: #FFFFFF;\n",
              "    }\n",
              "  </style>\n",
              "\n",
              "      <script>\n",
              "        const buttonEl =\n",
              "          document.querySelector('#df-46a1273c-00e4-4ef1-b7d2-3abb0e596440 button.colab-df-convert');\n",
              "        buttonEl.style.display =\n",
              "          google.colab.kernel.accessAllowed ? 'block' : 'none';\n",
              "\n",
              "        async function convertToInteractive(key) {\n",
              "          const element = document.querySelector('#df-46a1273c-00e4-4ef1-b7d2-3abb0e596440');\n",
              "          const dataTable =\n",
              "            await google.colab.kernel.invokeFunction('convertToInteractive',\n",
              "                                                     [key], {});\n",
              "          if (!dataTable) return;\n",
              "\n",
              "          const docLinkHtml = 'Like what you see? Visit the ' +\n",
              "            '<a target=\"_blank\" href=https://colab.research.google.com/notebooks/data_table.ipynb>data table notebook</a>'\n",
              "            + ' to learn more about interactive tables.';\n",
              "          element.innerHTML = '';\n",
              "          dataTable['output_type'] = 'display_data';\n",
              "          await google.colab.output.renderOutput(dataTable, element);\n",
              "          const docLink = document.createElement('div');\n",
              "          docLink.innerHTML = docLinkHtml;\n",
              "          element.appendChild(docLink);\n",
              "        }\n",
              "      </script>\n",
              "    </div>\n",
              "  </div>\n",
              "  "
            ]
          },
          "metadata": {},
          "execution_count": 15
        }
      ],
      "source": [
        "agg_df = df.groupby([\"country\", \"device\", \"gender\", \"age\"]).agg({\"price\": \"mean\"}).sort_values(\"price\", ascending = False)\n",
        "agg_df.reset_index(inplace = True)\n",
        "agg_df"
      ]
    },
    {
      "cell_type": "markdown",
      "id": "3854c0b3",
      "metadata": {
        "id": "3854c0b3"
      },
      "source": [
        "**Create range of ages as \"agg_df\" to profile customers more accurately**"
      ]
    },
    {
      "cell_type": "code",
      "execution_count": 16,
      "id": "20a3c9c2",
      "metadata": {
        "id": "20a3c9c2",
        "outputId": "b4684739-c2ae-4b73-f2a4-21a95ba98577",
        "colab": {
          "base_uri": "https://localhost:8080/"
        }
      },
      "outputs": [
        {
          "output_type": "stream",
          "name": "stdout",
          "text": [
            "   age age_cat\n",
            "0   24   18_25\n",
            "1   18    0_18\n",
            "2   46   35_50\n",
            "3   51   50_65\n",
            "4   24   18_25\n"
          ]
        }
      ],
      "source": [
        "agg_df[\"age_cat\"] = pd.cut(agg_df[\"age\"], \n",
        "                           [0, 18, 25, 35, 50, 65, 80],\n",
        "                           labels = [\"0_18\",\"18_25\",\"25_35\",\"35_50\",\"50_65\",\"65_80\"])\n",
        "print(agg_df[[\"age\", \"age_cat\"]].head())"
      ]
    },
    {
      "cell_type": "code",
      "execution_count": 17,
      "id": "48e09787",
      "metadata": {
        "id": "48e09787",
        "outputId": "c9d9f680-6e0d-4698-882c-cba0b7178d6b",
        "colab": {
          "base_uri": "https://localhost:8080/",
          "height": 447
        }
      },
      "outputs": [
        {
          "output_type": "display_data",
          "data": {
            "text/plain": [
              "<Figure size 2600x800 with 1 Axes>"
            ],
            "image/png": "[encoded data removed]"
          },
          "metadata": {}
        }
      ],
      "source": [
        "sns.set_palette(\"magma\");\n",
        "plt.figure(figsize=(13,4),dpi=200)\n",
        "\n",
        "sns.histplot(agg_df[\"age\"]);"
      ]
    },
    {
      "cell_type": "markdown",
      "id": "3d905713",
      "metadata": {
        "id": "3d905713"
      },
      "source": [
        "**Create new level based customers and add them into the data set as variables.**"
      ]
    },
    {
      "cell_type": "code",
      "execution_count": 18,
      "id": "7bf97456",
      "metadata": {
        "id": "7bf97456",
        "outputId": "e7811f52-f7e0-4829-b764-3f74f22850f9",
        "colab": {
          "base_uri": "https://localhost:8080/",
          "height": 206
        }
      },
      "outputs": [
        {
          "output_type": "execute_result",
          "data": {
            "text/plain": [
              "  country device gender  age  price age_cat customers_level_based\n",
              "0     FRA    and      F   24  899.0   18_25       FRA_AND_F_18_25\n",
              "1     TUR    and      M   18  899.0    0_18        TUR_AND_M_0_18\n",
              "2     BRA    and      M   46  899.0   35_50       BRA_AND_M_35_50\n",
              "3     DEU    and      F   51  599.0   50_65       DEU_AND_F_50_65\n",
              "4     USA    iOS      M   24  599.0   18_25       USA_IOS_M_18_25"
            ],
            "text/html": [
              "\n",
              "  <div id=\"df-7dedab9f-c5a6-49ec-9c85-c2f5c41b71a6\">\n",
              "    <div class=\"colab-df-container\">\n",
              "      <div>\n",
              "<style scoped>\n",
              "    .dataframe tbody tr th:only-of-type {\n",
              "        vertical-align: middle;\n",
              "    }\n",
              "\n",
              "    .dataframe tbody tr th {\n",
              "        vertical-align: top;\n",
              "    }\n",
              "\n",
              "    .dataframe thead th {\n",
              "        text-align: right;\n",
              "    }\n",
              "</style>\n",
              "<table border=\"1\" class=\"dataframe\">\n",
              "  <thead>\n",
              "    <tr style=\"text-align: right;\">\n",
              "      <th></th>\n",
              "      <th>country</th>\n",
              "      <th>device</th>\n",
              "      <th>gender</th>\n",
              "      <th>age</th>\n",
              "      <th>price</th>\n",
              "      <th>age_cat</th>\n",
              "      <th>customers_level_based</th>\n",
              "    </tr>\n",
              "  </thead>\n",
              "  <tbody>\n",
              "    <tr>\n",
              "      <th>0</th>\n",
              "      <td>FRA</td>\n",
              "      <td>and</td>\n",
              "      <td>F</td>\n",
              "      <td>24</td>\n",
              "      <td>899.0</td>\n",
              "      <td>18_25</td>\n",
              "      <td>FRA_AND_F_18_25</td>\n",
              "    </tr>\n",
              "    <tr>\n",
              "      <th>1</th>\n",
              "      <td>TUR</td>\n",
              "      <td>and</td>\n",
              "      <td>M</td>\n",
              "      <td>18</td>\n",
              "      <td>899.0</td>\n",
              "      <td>0_18</td>\n",
              "      <td>TUR_AND_M_0_18</td>\n",
              "    </tr>\n",
              "    <tr>\n",
              "      <th>2</th>\n",
              "      <td>BRA</td>\n",
              "      <td>and</td>\n",
              "      <td>M</td>\n",
              "      <td>46</td>\n",
              "      <td>899.0</td>\n",
              "      <td>35_50</td>\n",
              "      <td>BRA_AND_M_35_50</td>\n",
              "    </tr>\n",
              "    <tr>\n",
              "      <th>3</th>\n",
              "      <td>DEU</td>\n",
              "      <td>and</td>\n",
              "      <td>F</td>\n",
              "      <td>51</td>\n",
              "      <td>599.0</td>\n",
              "      <td>50_65</td>\n",
              "      <td>DEU_AND_F_50_65</td>\n",
              "    </tr>\n",
              "    <tr>\n",
              "      <th>4</th>\n",
              "      <td>USA</td>\n",
              "      <td>iOS</td>\n",
              "      <td>M</td>\n",
              "      <td>24</td>\n",
              "      <td>599.0</td>\n",
              "      <td>18_25</td>\n",
              "      <td>USA_IOS_M_18_25</td>\n",
              "    </tr>\n",
              "  </tbody>\n",
              "</table>\n",
              "</div>\n",
              "      <button class=\"colab-df-convert\" onclick=\"convertToInteractive('df-7dedab9f-c5a6-49ec-9c85-c2f5c41b71a6')\"\n",
              "              title=\"Convert this dataframe to an interactive table.\"\n",
              "              style=\"display:none;\">\n",
              "        \n",
              "  <svg xmlns=\"http://www.w3.org/2000/svg\" height=\"24px\"viewBox=\"0 0 24 24\"\n",
              "       width=\"24px\">\n",
              "    <path d=\"M0 0h24v24H0V0z\" fill=\"none\"/>\n",
              "    <path d=\"M18.56 5.44l.94 2.06.94-2.06 2.06-.94-2.06-.94-.94-2.06-.94 2.06-2.06.94zm-11 1L8.5 8.5l.94-2.06 2.06-.94-2.06-.94L8.5 2.5l-.94 2.06-2.06.94zm10 10l.94 2.06.94-2.06 2.06-.94-2.06-.94-.94-2.06-.94 2.06-2.06.94z\"/><path d=\"M17.41 7.96l-1.37-1.37c-.4-.4-.92-.59-1.43-.59-.52 0-1.04.2-1.43.59L10.3 9.45l-7.72 7.72c-.78.78-.78 2.05 0 2.83L4 21.41c.39.39.9.59 1.41.59.51 0 1.02-.2 1.41-.59l7.78-7.78 2.81-2.81c.8-.78.8-2.07 0-2.86zM5.41 20L4 18.59l7.72-7.72 1.47 1.35L5.41 20z\"/>\n",
              "  </svg>\n",
              "      </button>\n",
              "      \n",
              "  <style>\n",
              "    .colab-df-container {\n",
              "      display:flex;\n",
              "      flex-wrap:wrap;\n",
              "      gap: 12px;\n",
              "    }\n",
              "\n",
              "    .colab-df-convert {\n",
              "      background-color: #E8F0FE;\n",
              "      border: none;\n",
              "      border-radius: 50%;\n",
              "      cursor: pointer;\n",
              "      display: none;\n",
              "      fill: #1967D2;\n",
              "      height: 32px;\n",
              "      padding: 0 0 0 0;\n",
              "      width: 32px;\n",
              "    }\n",
              "\n",
              "    .colab-df-convert:hover {\n",
              "      background-color: #E2EBFA;\n",
              "      box-shadow: 0px 1px 2px rgba(60, 64, 67, 0.3), 0px 1px 3px 1px rgba(60, 64, 67, 0.15);\n",
              "      fill: #174EA6;\n",
              "    }\n",
              "\n",
              "    [theme=dark] .colab-df-convert {\n",
              "      background-color: #3B4455;\n",
              "      fill: #D2E3FC;\n",
              "    }\n",
              "\n",
              "    [theme=dark] .colab-df-convert:hover {\n",
              "      background-color: #434B5C;\n",
              "      box-shadow: 0px 1px 3px 1px rgba(0, 0, 0, 0.15);\n",
              "      filter: drop-shadow(0px 1px 2px rgba(0, 0, 0, 0.3));\n",
              "      fill: #FFFFFF;\n",
              "    }\n",
              "  </style>\n",
              "\n",
              "      <script>\n",
              "        const buttonEl =\n",
              "          document.querySelector('#df-7dedab9f-c5a6-49ec-9c85-c2f5c41b71a6 button.colab-df-convert');\n",
              "        buttonEl.style.display =\n",
              "          google.colab.kernel.accessAllowed ? 'block' : 'none';\n",
              "\n",
              "        async function convertToInteractive(key) {\n",
              "          const element = document.querySelector('#df-7dedab9f-c5a6-49ec-9c85-c2f5c41b71a6');\n",
              "          const dataTable =\n",
              "            await google.colab.kernel.invokeFunction('convertToInteractive',\n",
              "                                                     [key], {});\n",
              "          if (!dataTable) return;\n",
              "\n",
              "          const docLinkHtml = 'Like what you see? Visit the ' +\n",
              "            '<a target=\"_blank\" href=https://colab.research.google.com/notebooks/data_table.ipynb>data table notebook</a>'\n",
              "            + ' to learn more about interactive tables.';\n",
              "          element.innerHTML = '';\n",
              "          dataTable['output_type'] = 'display_data';\n",
              "          await google.colab.output.renderOutput(dataTable, element);\n",
              "          const docLink = document.createElement('div');\n",
              "          docLink.innerHTML = docLinkHtml;\n",
              "          element.appendChild(docLink);\n",
              "        }\n",
              "      </script>\n",
              "    </div>\n",
              "  </div>\n",
              "  "
            ]
          },
          "metadata": {},
          "execution_count": 18
        }
      ],
      "source": [
        "agg_df[\"customers_level_based\"] = [row[0] + \"_\" + row[1].upper() + \"_\" + row[2] + \"_\" + row[5] for row in agg_df.values]\n",
        "agg_df.head()"
      ]
    },
    {
      "cell_type": "markdown",
      "id": "82e41941",
      "metadata": {
        "id": "82e41941"
      },
      "source": [
        "**FinalTable**"
      ]
    },
    {
      "cell_type": "code",
      "execution_count": 19,
      "id": "c6009ecd",
      "metadata": {
        "id": "c6009ecd",
        "outputId": "0ff3b359-7455-42d5-faa6-d672998a6c6a",
        "colab": {
          "base_uri": "https://localhost:8080/",
          "height": 206
        }
      },
      "outputs": [
        {
          "output_type": "execute_result",
          "data": {
            "text/plain": [
              "  customers_level_based  price\n",
              "0       FRA_AND_F_18_25  899.0\n",
              "1        TUR_AND_M_0_18  899.0\n",
              "2       BRA_AND_M_35_50  899.0\n",
              "3       DEU_AND_F_50_65  599.0\n",
              "4       USA_IOS_M_18_25  599.0"
            ],
            "text/html": [
              "\n",
              "  <div id=\"df-a44ec949-aade-4fb5-99b6-d4e0e696ecc7\">\n",
              "    <div class=\"colab-df-container\">\n",
              "      <div>\n",
              "<style scoped>\n",
              "    .dataframe tbody tr th:only-of-type {\n",
              "        vertical-align: middle;\n",
              "    }\n",
              "\n",
              "    .dataframe tbody tr th {\n",
              "        vertical-align: top;\n",
              "    }\n",
              "\n",
              "    .dataframe thead th {\n",
              "        text-align: right;\n",
              "    }\n",
              "</style>\n",
              "<table border=\"1\" class=\"dataframe\">\n",
              "  <thead>\n",
              "    <tr style=\"text-align: right;\">\n",
              "      <th></th>\n",
              "      <th>customers_level_based</th>\n",
              "      <th>price</th>\n",
              "    </tr>\n",
              "  </thead>\n",
              "  <tbody>\n",
              "    <tr>\n",
              "      <th>0</th>\n",
              "      <td>FRA_AND_F_18_25</td>\n",
              "      <td>899.0</td>\n",
              "    </tr>\n",
              "    <tr>\n",
              "      <th>1</th>\n",
              "      <td>TUR_AND_M_0_18</td>\n",
              "      <td>899.0</td>\n",
              "    </tr>\n",
              "    <tr>\n",
              "      <th>2</th>\n",
              "      <td>BRA_AND_M_35_50</td>\n",
              "      <td>899.0</td>\n",
              "    </tr>\n",
              "    <tr>\n",
              "      <th>3</th>\n",
              "      <td>DEU_AND_F_50_65</td>\n",
              "      <td>599.0</td>\n",
              "    </tr>\n",
              "    <tr>\n",
              "      <th>4</th>\n",
              "      <td>USA_IOS_M_18_25</td>\n",
              "      <td>599.0</td>\n",
              "    </tr>\n",
              "  </tbody>\n",
              "</table>\n",
              "</div>\n",
              "      <button class=\"colab-df-convert\" onclick=\"convertToInteractive('df-a44ec949-aade-4fb5-99b6-d4e0e696ecc7')\"\n",
              "              title=\"Convert this dataframe to an interactive table.\"\n",
              "              style=\"display:none;\">\n",
              "        \n",
              "  <svg xmlns=\"http://www.w3.org/2000/svg\" height=\"24px\"viewBox=\"0 0 24 24\"\n",
              "       width=\"24px\">\n",
              "    <path d=\"M0 0h24v24H0V0z\" fill=\"none\"/>\n",
              "    <path d=\"M18.56 5.44l.94 2.06.94-2.06 2.06-.94-2.06-.94-.94-2.06-.94 2.06-2.06.94zm-11 1L8.5 8.5l.94-2.06 2.06-.94-2.06-.94L8.5 2.5l-.94 2.06-2.06.94zm10 10l.94 2.06.94-2.06 2.06-.94-2.06-.94-.94-2.06-.94 2.06-2.06.94z\"/><path d=\"M17.41 7.96l-1.37-1.37c-.4-.4-.92-.59-1.43-.59-.52 0-1.04.2-1.43.59L10.3 9.45l-7.72 7.72c-.78.78-.78 2.05 0 2.83L4 21.41c.39.39.9.59 1.41.59.51 0 1.02-.2 1.41-.59l7.78-7.78 2.81-2.81c.8-.78.8-2.07 0-2.86zM5.41 20L4 18.59l7.72-7.72 1.47 1.35L5.41 20z\"/>\n",
              "  </svg>\n",
              "      </button>\n",
              "      \n",
              "  <style>\n",
              "    .colab-df-container {\n",
              "      display:flex;\n",
              "      flex-wrap:wrap;\n",
              "      gap: 12px;\n",
              "    }\n",
              "\n",
              "    .colab-df-convert {\n",
              "      background-color: #E8F0FE;\n",
              "      border: none;\n",
              "      border-radius: 50%;\n",
              "      cursor: pointer;\n",
              "      display: none;\n",
              "      fill: #1967D2;\n",
              "      height: 32px;\n",
              "      padding: 0 0 0 0;\n",
              "      width: 32px;\n",
              "    }\n",
              "\n",
              "    .colab-df-convert:hover {\n",
              "      background-color: #E2EBFA;\n",
              "      box-shadow: 0px 1px 2px rgba(60, 64, 67, 0.3), 0px 1px 3px 1px rgba(60, 64, 67, 0.15);\n",
              "      fill: #174EA6;\n",
              "    }\n",
              "\n",
              "    [theme=dark] .colab-df-convert {\n",
              "      background-color: #3B4455;\n",
              "      fill: #D2E3FC;\n",
              "    }\n",
              "\n",
              "    [theme=dark] .colab-df-convert:hover {\n",
              "      background-color: #434B5C;\n",
              "      box-shadow: 0px 1px 3px 1px rgba(0, 0, 0, 0.15);\n",
              "      filter: drop-shadow(0px 1px 2px rgba(0, 0, 0, 0.3));\n",
              "      fill: #FFFFFF;\n",
              "    }\n",
              "  </style>\n",
              "\n",
              "      <script>\n",
              "        const buttonEl =\n",
              "          document.querySelector('#df-a44ec949-aade-4fb5-99b6-d4e0e696ecc7 button.colab-df-convert');\n",
              "        buttonEl.style.display =\n",
              "          google.colab.kernel.accessAllowed ? 'block' : 'none';\n",
              "\n",
              "        async function convertToInteractive(key) {\n",
              "          const element = document.querySelector('#df-a44ec949-aade-4fb5-99b6-d4e0e696ecc7');\n",
              "          const dataTable =\n",
              "            await google.colab.kernel.invokeFunction('convertToInteractive',\n",
              "                                                     [key], {});\n",
              "          if (!dataTable) return;\n",
              "\n",
              "          const docLinkHtml = 'Like what you see? Visit the ' +\n",
              "            '<a target=\"_blank\" href=https://colab.research.google.com/notebooks/data_table.ipynb>data table notebook</a>'\n",
              "            + ' to learn more about interactive tables.';\n",
              "          element.innerHTML = '';\n",
              "          dataTable['output_type'] = 'display_data';\n",
              "          await google.colab.output.renderOutput(dataTable, element);\n",
              "          const docLink = document.createElement('div');\n",
              "          docLink.innerHTML = docLinkHtml;\n",
              "          element.appendChild(docLink);\n",
              "        }\n",
              "      </script>\n",
              "    </div>\n",
              "  </div>\n",
              "  "
            ]
          },
          "metadata": {},
          "execution_count": 19
        }
      ],
      "source": [
        "agg_df = agg_df[[\"customers_level_based\", \"price\"]]\n",
        "agg_df.head()"
      ]
    },
    {
      "cell_type": "code",
      "execution_count": 21,
      "id": "1db7095c",
      "metadata": {
        "id": "1db7095c",
        "outputId": "b1bb9c01-2f33-4b2a-d7e8-3e78df5c7cd2",
        "colab": {
          "base_uri": "https://localhost:8080/",
          "height": 520
        }
      },
      "outputs": [
        {
          "output_type": "execute_result",
          "data": {
            "text/plain": [
              "   customers_level_based       price\n",
              "0         BRA_AND_F_0_18  409.413985\n",
              "1        BRA_AND_F_18_25  411.395931\n",
              "2        BRA_AND_F_25_35  396.941857\n",
              "3        BRA_AND_F_35_50  442.684933\n",
              "4        BRA_AND_F_50_65  439.000000\n",
              "5         BRA_AND_M_0_18  421.959226\n",
              "6        BRA_AND_M_18_25  414.349641\n",
              "7        BRA_AND_M_25_35  398.845884\n",
              "8        BRA_AND_M_35_50  484.401003\n",
              "9        BRA_AND_M_50_65  374.000000\n",
              "10        BRA_IOS_F_0_18  414.919275\n",
              "11       BRA_IOS_F_18_25  384.576323\n",
              "12       BRA_IOS_F_25_35  355.385281\n",
              "13       BRA_IOS_F_35_50  412.927068\n",
              "14       BRA_IOS_F_50_65  374.000000"
            ],
            "text/html": [
              "\n",
              "  <div id=\"df-da927b4d-7471-4d70-a820-e6acb42256b6\">\n",
              "    <div class=\"colab-df-container\">\n",
              "      <div>\n",
              "<style scoped>\n",
              "    .dataframe tbody tr th:only-of-type {\n",
              "        vertical-align: middle;\n",
              "    }\n",
              "\n",
              "    .dataframe tbody tr th {\n",
              "        vertical-align: top;\n",
              "    }\n",
              "\n",
              "    .dataframe thead th {\n",
              "        text-align: right;\n",
              "    }\n",
              "</style>\n",
              "<table border=\"1\" class=\"dataframe\">\n",
              "  <thead>\n",
              "    <tr style=\"text-align: right;\">\n",
              "      <th></th>\n",
              "      <th>customers_level_based</th>\n",
              "      <th>price</th>\n",
              "    </tr>\n",
              "  </thead>\n",
              "  <tbody>\n",
              "    <tr>\n",
              "      <th>0</th>\n",
              "      <td>BRA_AND_F_0_18</td>\n",
              "      <td>409.413985</td>\n",
              "    </tr>\n",
              "    <tr>\n",
              "      <th>1</th>\n",
              "      <td>BRA_AND_F_18_25</td>\n",
              "      <td>411.395931</td>\n",
              "    </tr>\n",
              "    <tr>\n",
              "      <th>2</th>\n",
              "      <td>BRA_AND_F_25_35</td>\n",
              "      <td>396.941857</td>\n",
              "    </tr>\n",
              "    <tr>\n",
              "      <th>3</th>\n",
              "      <td>BRA_AND_F_35_50</td>\n",
              "      <td>442.684933</td>\n",
              "    </tr>\n",
              "    <tr>\n",
              "      <th>4</th>\n",
              "      <td>BRA_AND_F_50_65</td>\n",
              "      <td>439.000000</td>\n",
              "    </tr>\n",
              "    <tr>\n",
              "      <th>5</th>\n",
              "      <td>BRA_AND_M_0_18</td>\n",
              "      <td>421.959226</td>\n",
              "    </tr>\n",
              "    <tr>\n",
              "      <th>6</th>\n",
              "      <td>BRA_AND_M_18_25</td>\n",
              "      <td>414.349641</td>\n",
              "    </tr>\n",
              "    <tr>\n",
              "      <th>7</th>\n",
              "      <td>BRA_AND_M_25_35</td>\n",
              "      <td>398.845884</td>\n",
              "    </tr>\n",
              "    <tr>\n",
              "      <th>8</th>\n",
              "      <td>BRA_AND_M_35_50</td>\n",
              "      <td>484.401003</td>\n",
              "    </tr>\n",
              "    <tr>\n",
              "      <th>9</th>\n",
              "      <td>BRA_AND_M_50_65</td>\n",
              "      <td>374.000000</td>\n",
              "    </tr>\n",
              "    <tr>\n",
              "      <th>10</th>\n",
              "      <td>BRA_IOS_F_0_18</td>\n",
              "      <td>414.919275</td>\n",
              "    </tr>\n",
              "    <tr>\n",
              "      <th>11</th>\n",
              "      <td>BRA_IOS_F_18_25</td>\n",
              "      <td>384.576323</td>\n",
              "    </tr>\n",
              "    <tr>\n",
              "      <th>12</th>\n",
              "      <td>BRA_IOS_F_25_35</td>\n",
              "      <td>355.385281</td>\n",
              "    </tr>\n",
              "    <tr>\n",
              "      <th>13</th>\n",
              "      <td>BRA_IOS_F_35_50</td>\n",
              "      <td>412.927068</td>\n",
              "    </tr>\n",
              "    <tr>\n",
              "      <th>14</th>\n",
              "      <td>BRA_IOS_F_50_65</td>\n",
              "      <td>374.000000</td>\n",
              "    </tr>\n",
              "  </tbody>\n",
              "</table>\n",
              "</div>\n",
              "      <button class=\"colab-df-convert\" onclick=\"convertToInteractive('df-da927b4d-7471-4d70-a820-e6acb42256b6')\"\n",
              "              title=\"Convert this dataframe to an interactive table.\"\n",
              "              style=\"display:none;\">\n",
              "        \n",
              "  <svg xmlns=\"http://www.w3.org/2000/svg\" height=\"24px\"viewBox=\"0 0 24 24\"\n",
              "       width=\"24px\">\n",
              "    <path d=\"M0 0h24v24H0V0z\" fill=\"none\"/>\n",
              "    <path d=\"M18.56 5.44l.94 2.06.94-2.06 2.06-.94-2.06-.94-.94-2.06-.94 2.06-2.06.94zm-11 1L8.5 8.5l.94-2.06 2.06-.94-2.06-.94L8.5 2.5l-.94 2.06-2.06.94zm10 10l.94 2.06.94-2.06 2.06-.94-2.06-.94-.94-2.06-.94 2.06-2.06.94z\"/><path d=\"M17.41 7.96l-1.37-1.37c-.4-.4-.92-.59-1.43-.59-.52 0-1.04.2-1.43.59L10.3 9.45l-7.72 7.72c-.78.78-.78 2.05 0 2.83L4 21.41c.39.39.9.59 1.41.59.51 0 1.02-.2 1.41-.59l7.78-7.78 2.81-2.81c.8-.78.8-2.07 0-2.86zM5.41 20L4 18.59l7.72-7.72 1.47 1.35L5.41 20z\"/>\n",
              "  </svg>\n",
              "      </button>\n",
              "      \n",
              "  <style>\n",
              "    .colab-df-container {\n",
              "      display:flex;\n",
              "      flex-wrap:wrap;\n",
              "      gap: 12px;\n",
              "    }\n",
              "\n",
              "    .colab-df-convert {\n",
              "      background-color: #E8F0FE;\n",
              "      border: none;\n",
              "      border-radius: 50%;\n",
              "      cursor: pointer;\n",
              "      display: none;\n",
              "      fill: #1967D2;\n",
              "      height: 32px;\n",
              "      padding: 0 0 0 0;\n",
              "      width: 32px;\n",
              "    }\n",
              "\n",
              "    .colab-df-convert:hover {\n",
              "      background-color: #E2EBFA;\n",
              "      box-shadow: 0px 1px 2px rgba(60, 64, 67, 0.3), 0px 1px 3px 1px rgba(60, 64, 67, 0.15);\n",
              "      fill: #174EA6;\n",
              "    }\n",
              "\n",
              "    [theme=dark] .colab-df-convert {\n",
              "      background-color: #3B4455;\n",
              "      fill: #D2E3FC;\n",
              "    }\n",
              "\n",
              "    [theme=dark] .colab-df-convert:hover {\n",
              "      background-color: #434B5C;\n",
              "      box-shadow: 0px 1px 3px 1px rgba(0, 0, 0, 0.15);\n",
              "      filter: drop-shadow(0px 1px 2px rgba(0, 0, 0, 0.3));\n",
              "      fill: #FFFFFF;\n",
              "    }\n",
              "  </style>\n",
              "\n",
              "      <script>\n",
              "        const buttonEl =\n",
              "          document.querySelector('#df-da927b4d-7471-4d70-a820-e6acb42256b6 button.colab-df-convert');\n",
              "        buttonEl.style.display =\n",
              "          google.colab.kernel.accessAllowed ? 'block' : 'none';\n",
              "\n",
              "        async function convertToInteractive(key) {\n",
              "          const element = document.querySelector('#df-da927b4d-7471-4d70-a820-e6acb42256b6');\n",
              "          const dataTable =\n",
              "            await google.colab.kernel.invokeFunction('convertToInteractive',\n",
              "                                                     [key], {});\n",
              "          if (!dataTable) return;\n",
              "\n",
              "          const docLinkHtml = 'Like what you see? Visit the ' +\n",
              "            '<a target=\"_blank\" href=https://colab.research.google.com/notebooks/data_table.ipynb>data table notebook</a>'\n",
              "            + ' to learn more about interactive tables.';\n",
              "          element.innerHTML = '';\n",
              "          dataTable['output_type'] = 'display_data';\n",
              "          await google.colab.output.renderOutput(dataTable, element);\n",
              "          const docLink = document.createElement('div');\n",
              "          docLink.innerHTML = docLinkHtml;\n",
              "          element.appendChild(docLink);\n",
              "        }\n",
              "      </script>\n",
              "    </div>\n",
              "  </div>\n",
              "  "
            ]
          },
          "metadata": {},
          "execution_count": 21
        }
      ],
      "source": [
        "agg_df = agg_df.groupby(\"customers_level_based\").agg({\"price\":\"mean\"})\n",
        "agg_df = agg_df.reset_index()\n",
        "agg_df.head(15)"
      ]
    },
    {
      "cell_type": "markdown",
      "id": "6f09c19a",
      "metadata": {
        "id": "6f09c19a"
      },
      "source": [
        "**Segment new customers according to price, add them to agg_df with the segment naming**"
      ]
    },
    {
      "cell_type": "code",
      "execution_count": 22,
      "id": "cedb973a",
      "metadata": {
        "id": "cedb973a",
        "outputId": "12c01806-cd53-403a-fcab-5d7dd9c45ae2",
        "colab": {
          "base_uri": "https://localhost:8080/",
          "height": 206
        }
      },
      "outputs": [
        {
          "output_type": "execute_result",
          "data": {
            "text/plain": [
              "  customers_level_based       price segment\n",
              "0        BRA_AND_F_0_18  409.413985       B\n",
              "1       BRA_AND_F_18_25  411.395931       B\n",
              "2       BRA_AND_F_25_35  396.941857       C\n",
              "3       BRA_AND_F_35_50  442.684933       A\n",
              "4       BRA_AND_F_50_65  439.000000       A"
            ],
            "text/html": [
              "\n",
              "  <div id=\"df-87083927-0794-4d8e-895e-81e3b778e833\">\n",
              "    <div class=\"colab-df-container\">\n",
              "      <div>\n",
              "<style scoped>\n",
              "    .dataframe tbody tr th:only-of-type {\n",
              "        vertical-align: middle;\n",
              "    }\n",
              "\n",
              "    .dataframe tbody tr th {\n",
              "        vertical-align: top;\n",
              "    }\n",
              "\n",
              "    .dataframe thead th {\n",
              "        text-align: right;\n",
              "    }\n",
              "</style>\n",
              "<table border=\"1\" class=\"dataframe\">\n",
              "  <thead>\n",
              "    <tr style=\"text-align: right;\">\n",
              "      <th></th>\n",
              "      <th>customers_level_based</th>\n",
              "      <th>price</th>\n",
              "      <th>segment</th>\n",
              "    </tr>\n",
              "  </thead>\n",
              "  <tbody>\n",
              "    <tr>\n",
              "      <th>0</th>\n",
              "      <td>BRA_AND_F_0_18</td>\n",
              "      <td>409.413985</td>\n",
              "      <td>B</td>\n",
              "    </tr>\n",
              "    <tr>\n",
              "      <th>1</th>\n",
              "      <td>BRA_AND_F_18_25</td>\n",
              "      <td>411.395931</td>\n",
              "      <td>B</td>\n",
              "    </tr>\n",
              "    <tr>\n",
              "      <th>2</th>\n",
              "      <td>BRA_AND_F_25_35</td>\n",
              "      <td>396.941857</td>\n",
              "      <td>C</td>\n",
              "    </tr>\n",
              "    <tr>\n",
              "      <th>3</th>\n",
              "      <td>BRA_AND_F_35_50</td>\n",
              "      <td>442.684933</td>\n",
              "      <td>A</td>\n",
              "    </tr>\n",
              "    <tr>\n",
              "      <th>4</th>\n",
              "      <td>BRA_AND_F_50_65</td>\n",
              "      <td>439.000000</td>\n",
              "      <td>A</td>\n",
              "    </tr>\n",
              "  </tbody>\n",
              "</table>\n",
              "</div>\n",
              "      <button class=\"colab-df-convert\" onclick=\"convertToInteractive('df-87083927-0794-4d8e-895e-81e3b778e833')\"\n",
              "              title=\"Convert this dataframe to an interactive table.\"\n",
              "              style=\"display:none;\">\n",
              "        \n",
              "  <svg xmlns=\"http://www.w3.org/2000/svg\" height=\"24px\"viewBox=\"0 0 24 24\"\n",
              "       width=\"24px\">\n",
              "    <path d=\"M0 0h24v24H0V0z\" fill=\"none\"/>\n",
              "    <path d=\"M18.56 5.44l.94 2.06.94-2.06 2.06-.94-2.06-.94-.94-2.06-.94 2.06-2.06.94zm-11 1L8.5 8.5l.94-2.06 2.06-.94-2.06-.94L8.5 2.5l-.94 2.06-2.06.94zm10 10l.94 2.06.94-2.06 2.06-.94-2.06-.94-.94-2.06-.94 2.06-2.06.94z\"/><path d=\"M17.41 7.96l-1.37-1.37c-.4-.4-.92-.59-1.43-.59-.52 0-1.04.2-1.43.59L10.3 9.45l-7.72 7.72c-.78.78-.78 2.05 0 2.83L4 21.41c.39.39.9.59 1.41.59.51 0 1.02-.2 1.41-.59l7.78-7.78 2.81-2.81c.8-.78.8-2.07 0-2.86zM5.41 20L4 18.59l7.72-7.72 1.47 1.35L5.41 20z\"/>\n",
              "  </svg>\n",
              "      </button>\n",
              "      \n",
              "  <style>\n",
              "    .colab-df-container {\n",
              "      display:flex;\n",
              "      flex-wrap:wrap;\n",
              "      gap: 12px;\n",
              "    }\n",
              "\n",
              "    .colab-df-convert {\n",
              "      background-color: #E8F0FE;\n",
              "      border: none;\n",
              "      border-radius: 50%;\n",
              "      cursor: pointer;\n",
              "      display: none;\n",
              "      fill: #1967D2;\n",
              "      height: 32px;\n",
              "      padding: 0 0 0 0;\n",
              "      width: 32px;\n",
              "    }\n",
              "\n",
              "    .colab-df-convert:hover {\n",
              "      background-color: #E2EBFA;\n",
              "      box-shadow: 0px 1px 2px rgba(60, 64, 67, 0.3), 0px 1px 3px 1px rgba(60, 64, 67, 0.15);\n",
              "      fill: #174EA6;\n",
              "    }\n",
              "\n",
              "    [theme=dark] .colab-df-convert {\n",
              "      background-color: #3B4455;\n",
              "      fill: #D2E3FC;\n",
              "    }\n",
              "\n",
              "    [theme=dark] .colab-df-convert:hover {\n",
              "      background-color: #434B5C;\n",
              "      box-shadow: 0px 1px 3px 1px rgba(0, 0, 0, 0.15);\n",
              "      filter: drop-shadow(0px 1px 2px rgba(0, 0, 0, 0.3));\n",
              "      fill: #FFFFFF;\n",
              "    }\n",
              "  </style>\n",
              "\n",
              "      <script>\n",
              "        const buttonEl =\n",
              "          document.querySelector('#df-87083927-0794-4d8e-895e-81e3b778e833 button.colab-df-convert');\n",
              "        buttonEl.style.display =\n",
              "          google.colab.kernel.accessAllowed ? 'block' : 'none';\n",
              "\n",
              "        async function convertToInteractive(key) {\n",
              "          const element = document.querySelector('#df-87083927-0794-4d8e-895e-81e3b778e833');\n",
              "          const dataTable =\n",
              "            await google.colab.kernel.invokeFunction('convertToInteractive',\n",
              "                                                     [key], {});\n",
              "          if (!dataTable) return;\n",
              "\n",
              "          const docLinkHtml = 'Like what you see? Visit the ' +\n",
              "            '<a target=\"_blank\" href=https://colab.research.google.com/notebooks/data_table.ipynb>data table notebook</a>'\n",
              "            + ' to learn more about interactive tables.';\n",
              "          element.innerHTML = '';\n",
              "          dataTable['output_type'] = 'display_data';\n",
              "          await google.colab.output.renderOutput(dataTable, element);\n",
              "          const docLink = document.createElement('div');\n",
              "          docLink.innerHTML = docLinkHtml;\n",
              "          element.appendChild(docLink);\n",
              "        }\n",
              "      </script>\n",
              "    </div>\n",
              "  </div>\n",
              "  "
            ]
          },
          "metadata": {},
          "execution_count": 22
        }
      ],
      "source": [
        "agg_df[\"segment\"] = pd.qcut(agg_df[\"price\"], 4, labels=[\"D\", \"C\", \"B\", \"A\"])\n",
        "agg_df.head()"
      ]
    },
    {
      "cell_type": "code",
      "execution_count": 23,
      "id": "946e0a79",
      "metadata": {
        "id": "946e0a79",
        "outputId": "07bd3559-e4b5-404f-c3d2-3dbe6abc74c3",
        "colab": {
          "base_uri": "https://localhost:8080/",
          "height": 206
        }
      },
      "outputs": [
        {
          "output_type": "execute_result",
          "data": {
            "text/plain": [
              "  customers_level_based       price segment\n",
              "0        BRA_AND_F_0_18  409.413985       B\n",
              "1       BRA_AND_F_18_25  411.395931       B\n",
              "2       BRA_AND_F_25_35  396.941857       C\n",
              "3       BRA_AND_F_35_50  442.684933       A\n",
              "4       BRA_AND_F_50_65  439.000000       A"
            ],
            "text/html": [
              "\n",
              "  <div id=\"df-747413ba-a3a5-4041-8a17-42386642120f\">\n",
              "    <div class=\"colab-df-container\">\n",
              "      <div>\n",
              "<style scoped>\n",
              "    .dataframe tbody tr th:only-of-type {\n",
              "        vertical-align: middle;\n",
              "    }\n",
              "\n",
              "    .dataframe tbody tr th {\n",
              "        vertical-align: top;\n",
              "    }\n",
              "\n",
              "    .dataframe thead th {\n",
              "        text-align: right;\n",
              "    }\n",
              "</style>\n",
              "<table border=\"1\" class=\"dataframe\">\n",
              "  <thead>\n",
              "    <tr style=\"text-align: right;\">\n",
              "      <th></th>\n",
              "      <th>customers_level_based</th>\n",
              "      <th>price</th>\n",
              "      <th>segment</th>\n",
              "    </tr>\n",
              "  </thead>\n",
              "  <tbody>\n",
              "    <tr>\n",
              "      <th>0</th>\n",
              "      <td>BRA_AND_F_0_18</td>\n",
              "      <td>409.413985</td>\n",
              "      <td>B</td>\n",
              "    </tr>\n",
              "    <tr>\n",
              "      <th>1</th>\n",
              "      <td>BRA_AND_F_18_25</td>\n",
              "      <td>411.395931</td>\n",
              "      <td>B</td>\n",
              "    </tr>\n",
              "    <tr>\n",
              "      <th>2</th>\n",
              "      <td>BRA_AND_F_25_35</td>\n",
              "      <td>396.941857</td>\n",
              "      <td>C</td>\n",
              "    </tr>\n",
              "    <tr>\n",
              "      <th>3</th>\n",
              "      <td>BRA_AND_F_35_50</td>\n",
              "      <td>442.684933</td>\n",
              "      <td>A</td>\n",
              "    </tr>\n",
              "    <tr>\n",
              "      <th>4</th>\n",
              "      <td>BRA_AND_F_50_65</td>\n",
              "      <td>439.000000</td>\n",
              "      <td>A</td>\n",
              "    </tr>\n",
              "  </tbody>\n",
              "</table>\n",
              "</div>\n",
              "      <button class=\"colab-df-convert\" onclick=\"convertToInteractive('df-747413ba-a3a5-4041-8a17-42386642120f')\"\n",
              "              title=\"Convert this dataframe to an interactive table.\"\n",
              "              style=\"display:none;\">\n",
              "        \n",
              "  <svg xmlns=\"http://www.w3.org/2000/svg\" height=\"24px\"viewBox=\"0 0 24 24\"\n",
              "       width=\"24px\">\n",
              "    <path d=\"M0 0h24v24H0V0z\" fill=\"none\"/>\n",
              "    <path d=\"M18.56 5.44l.94 2.06.94-2.06 2.06-.94-2.06-.94-.94-2.06-.94 2.06-2.06.94zm-11 1L8.5 8.5l.94-2.06 2.06-.94-2.06-.94L8.5 2.5l-.94 2.06-2.06.94zm10 10l.94 2.06.94-2.06 2.06-.94-2.06-.94-.94-2.06-.94 2.06-2.06.94z\"/><path d=\"M17.41 7.96l-1.37-1.37c-.4-.4-.92-.59-1.43-.59-.52 0-1.04.2-1.43.59L10.3 9.45l-7.72 7.72c-.78.78-.78 2.05 0 2.83L4 21.41c.39.39.9.59 1.41.59.51 0 1.02-.2 1.41-.59l7.78-7.78 2.81-2.81c.8-.78.8-2.07 0-2.86zM5.41 20L4 18.59l7.72-7.72 1.47 1.35L5.41 20z\"/>\n",
              "  </svg>\n",
              "      </button>\n",
              "      \n",
              "  <style>\n",
              "    .colab-df-container {\n",
              "      display:flex;\n",
              "      flex-wrap:wrap;\n",
              "      gap: 12px;\n",
              "    }\n",
              "\n",
              "    .colab-df-convert {\n",
              "      background-color: #E8F0FE;\n",
              "      border: none;\n",
              "      border-radius: 50%;\n",
              "      cursor: pointer;\n",
              "      display: none;\n",
              "      fill: #1967D2;\n",
              "      height: 32px;\n",
              "      padding: 0 0 0 0;\n",
              "      width: 32px;\n",
              "    }\n",
              "\n",
              "    .colab-df-convert:hover {\n",
              "      background-color: #E2EBFA;\n",
              "      box-shadow: 0px 1px 2px rgba(60, 64, 67, 0.3), 0px 1px 3px 1px rgba(60, 64, 67, 0.15);\n",
              "      fill: #174EA6;\n",
              "    }\n",
              "\n",
              "    [theme=dark] .colab-df-convert {\n",
              "      background-color: #3B4455;\n",
              "      fill: #D2E3FC;\n",
              "    }\n",
              "\n",
              "    [theme=dark] .colab-df-convert:hover {\n",
              "      background-color: #434B5C;\n",
              "      box-shadow: 0px 1px 3px 1px rgba(0, 0, 0, 0.15);\n",
              "      filter: drop-shadow(0px 1px 2px rgba(0, 0, 0, 0.3));\n",
              "      fill: #FFFFFF;\n",
              "    }\n",
              "  </style>\n",
              "\n",
              "      <script>\n",
              "        const buttonEl =\n",
              "          document.querySelector('#df-747413ba-a3a5-4041-8a17-42386642120f button.colab-df-convert');\n",
              "        buttonEl.style.display =\n",
              "          google.colab.kernel.accessAllowed ? 'block' : 'none';\n",
              "\n",
              "        async function convertToInteractive(key) {\n",
              "          const element = document.querySelector('#df-747413ba-a3a5-4041-8a17-42386642120f');\n",
              "          const dataTable =\n",
              "            await google.colab.kernel.invokeFunction('convertToInteractive',\n",
              "                                                     [key], {});\n",
              "          if (!dataTable) return;\n",
              "\n",
              "          const docLinkHtml = 'Like what you see? Visit the ' +\n",
              "            '<a target=\"_blank\" href=https://colab.research.google.com/notebooks/data_table.ipynb>data table notebook</a>'\n",
              "            + ' to learn more about interactive tables.';\n",
              "          element.innerHTML = '';\n",
              "          dataTable['output_type'] = 'display_data';\n",
              "          await google.colab.output.renderOutput(dataTable, element);\n",
              "          const docLink = document.createElement('div');\n",
              "          docLink.innerHTML = docLinkHtml;\n",
              "          element.appendChild(docLink);\n",
              "        }\n",
              "      </script>\n",
              "    </div>\n",
              "  </div>\n",
              "  "
            ]
          },
          "metadata": {},
          "execution_count": 23
        }
      ],
      "source": [
        "agg_df[\"customers_level_based\"].value_counts()\n",
        "agg_df.head()"
      ]
    },
    {
      "cell_type": "markdown",
      "id": "2600ffb7",
      "metadata": {
        "id": "2600ffb7"
      },
      "source": [
        "**Description statistics of the segments**"
      ]
    },
    {
      "cell_type": "markdown",
      "id": "ddab6d90",
      "metadata": {
        "id": "ddab6d90"
      },
      "source": [
        "**EXAMPLE SEGMENTATION**\n",
        "\n",
        "**Which segment(s) a 42-year-old Turkish woman who uses IOS belongs to?**"
      ]
    },
    {
      "cell_type": "code",
      "execution_count": 24,
      "id": "0702ecb7",
      "metadata": {
        "id": "0702ecb7",
        "outputId": "46e36fd8-b363-4b61-d141-0422b5cb04af",
        "colab": {
          "base_uri": "https://localhost:8080/",
          "height": 81
        }
      },
      "outputs": [
        {
          "output_type": "execute_result",
          "data": {
            "text/plain": [
              "  customers_level_based       price segment\n",
              "2       BRA_AND_F_25_35  396.941857       C"
            ],
            "text/html": [
              "\n",
              "  <div id=\"df-bcbb076c-7c42-4976-9113-24ec7347649c\">\n",
              "    <div class=\"colab-df-container\">\n",
              "      <div>\n",
              "<style scoped>\n",
              "    .dataframe tbody tr th:only-of-type {\n",
              "        vertical-align: middle;\n",
              "    }\n",
              "\n",
              "    .dataframe tbody tr th {\n",
              "        vertical-align: top;\n",
              "    }\n",
              "\n",
              "    .dataframe thead th {\n",
              "        text-align: right;\n",
              "    }\n",
              "</style>\n",
              "<table border=\"1\" class=\"dataframe\">\n",
              "  <thead>\n",
              "    <tr style=\"text-align: right;\">\n",
              "      <th></th>\n",
              "      <th>customers_level_based</th>\n",
              "      <th>price</th>\n",
              "      <th>segment</th>\n",
              "    </tr>\n",
              "  </thead>\n",
              "  <tbody>\n",
              "    <tr>\n",
              "      <th>2</th>\n",
              "      <td>BRA_AND_F_25_35</td>\n",
              "      <td>396.941857</td>\n",
              "      <td>C</td>\n",
              "    </tr>\n",
              "  </tbody>\n",
              "</table>\n",
              "</div>\n",
              "      <button class=\"colab-df-convert\" onclick=\"convertToInteractive('df-bcbb076c-7c42-4976-9113-24ec7347649c')\"\n",
              "              title=\"Convert this dataframe to an interactive table.\"\n",
              "              style=\"display:none;\">\n",
              "        \n",
              "  <svg xmlns=\"http://www.w3.org/2000/svg\" height=\"24px\"viewBox=\"0 0 24 24\"\n",
              "       width=\"24px\">\n",
              "    <path d=\"M0 0h24v24H0V0z\" fill=\"none\"/>\n",
              "    <path d=\"M18.56 5.44l.94 2.06.94-2.06 2.06-.94-2.06-.94-.94-2.06-.94 2.06-2.06.94zm-11 1L8.5 8.5l.94-2.06 2.06-.94-2.06-.94L8.5 2.5l-.94 2.06-2.06.94zm10 10l.94 2.06.94-2.06 2.06-.94-2.06-.94-.94-2.06-.94 2.06-2.06.94z\"/><path d=\"M17.41 7.96l-1.37-1.37c-.4-.4-.92-.59-1.43-.59-.52 0-1.04.2-1.43.59L10.3 9.45l-7.72 7.72c-.78.78-.78 2.05 0 2.83L4 21.41c.39.39.9.59 1.41.59.51 0 1.02-.2 1.41-.59l7.78-7.78 2.81-2.81c.8-.78.8-2.07 0-2.86zM5.41 20L4 18.59l7.72-7.72 1.47 1.35L5.41 20z\"/>\n",
              "  </svg>\n",
              "      </button>\n",
              "      \n",
              "  <style>\n",
              "    .colab-df-container {\n",
              "      display:flex;\n",
              "      flex-wrap:wrap;\n",
              "      gap: 12px;\n",
              "    }\n",
              "\n",
              "    .colab-df-convert {\n",
              "      background-color: #E8F0FE;\n",
              "      border: none;\n",
              "      border-radius: 50%;\n",
              "      cursor: pointer;\n",
              "      display: none;\n",
              "      fill: #1967D2;\n",
              "      height: 32px;\n",
              "      padding: 0 0 0 0;\n",
              "      width: 32px;\n",
              "    }\n",
              "\n",
              "    .colab-df-convert:hover {\n",
              "      background-color: #E2EBFA;\n",
              "      box-shadow: 0px 1px 2px rgba(60, 64, 67, 0.3), 0px 1px 3px 1px rgba(60, 64, 67, 0.15);\n",
              "      fill: #174EA6;\n",
              "    }\n",
              "\n",
              "    [theme=dark] .colab-df-convert {\n",
              "      background-color: #3B4455;\n",
              "      fill: #D2E3FC;\n",
              "    }\n",
              "\n",
              "    [theme=dark] .colab-df-convert:hover {\n",
              "      background-color: #434B5C;\n",
              "      box-shadow: 0px 1px 3px 1px rgba(0, 0, 0, 0.15);\n",
              "      filter: drop-shadow(0px 1px 2px rgba(0, 0, 0, 0.3));\n",
              "      fill: #FFFFFF;\n",
              "    }\n",
              "  </style>\n",
              "\n",
              "      <script>\n",
              "        const buttonEl =\n",
              "          document.querySelector('#df-bcbb076c-7c42-4976-9113-24ec7347649c button.colab-df-convert');\n",
              "        buttonEl.style.display =\n",
              "          google.colab.kernel.accessAllowed ? 'block' : 'none';\n",
              "\n",
              "        async function convertToInteractive(key) {\n",
              "          const element = document.querySelector('#df-bcbb076c-7c42-4976-9113-24ec7347649c');\n",
              "          const dataTable =\n",
              "            await google.colab.kernel.invokeFunction('convertToInteractive',\n",
              "                                                     [key], {});\n",
              "          if (!dataTable) return;\n",
              "\n",
              "          const docLinkHtml = 'Like what you see? Visit the ' +\n",
              "            '<a target=\"_blank\" href=https://colab.research.google.com/notebooks/data_table.ipynb>data table notebook</a>'\n",
              "            + ' to learn more about interactive tables.';\n",
              "          element.innerHTML = '';\n",
              "          dataTable['output_type'] = 'display_data';\n",
              "          await google.colab.output.renderOutput(dataTable, element);\n",
              "          const docLink = document.createElement('div');\n",
              "          docLink.innerHTML = docLinkHtml;\n",
              "          element.appendChild(docLink);\n",
              "        }\n",
              "      </script>\n",
              "    </div>\n",
              "  </div>\n",
              "  "
            ]
          },
          "metadata": {},
          "execution_count": 24
        }
      ],
      "source": [
        "new_user = \"BRA_AND_F_25_35\"\n",
        "agg_df[agg_df[\"customers_level_based\"] == new_user]"
      ]
    }
  ],
  "metadata": {
    "kernelspec": {
      "display_name": "Python 3 (ipykernel)",
      "language": "python",
      "name": "python3"
    },
    "language_info": {
      "codemirror_mode": {
        "name": "ipython",
        "version": 3
      },
      "file_extension": ".py",
      "mimetype": "text/x-python",
      "name": "python",
      "nbconvert_exporter": "python",
      "pygments_lexer": "ipython3",
      "version": "3.9.7"
    },
    "colab": {
      "provenance": [],
      "include_colab_link": true
    }
  },
  "nbformat": 4,
  "nbformat_minor": 5
}