{
 "cells": [
  {
   "cell_type": "markdown",
   "id": "653056ef",
   "metadata": {},
   "source": [
    "# Level Based Persona\n",
    "## Simple Segmentation & Rule Based Classification\n",
    "\n",
    "## Overview\n",
    "\n",
    "Our goal is to make groupings for customers that exist individually. Then it is to segment these groups. Finally, it is trying to determine which of these segments a new customer belongs to. **We won't be appling any machine learning algorithms to solve this problem.** Segmentation will be rule based and we will be defining those rules.\n",
    "\n",
    "### Goal: \n",
    "Thinking about the concept of persona.\n",
    "To be able to define new customers according to the levels.\n",
    "Simply segment new customer definitions using the qcut function.\n",
    "When a new customer arrives, classify them according to segments.\n",
    "\n",
    "\n",
    "\n",
    "\n",
    "---\n",
    "----\n",
    "\n",
    "## Part One: Understanding the Background and Data\n",
    "\n",
    "Source of data is a well-known Turkish clothing company which manufactures clothes for every gender and for every age. The products are decent quality and the main goal of the company is to reach as many people by adjusting the price range affordable"
   ]
  },
  {
   "cell_type": "markdown",
   "id": "3e3c5f58",
   "metadata": {},
   "source": [
    "----\n",
    "\n",
    "\n",
    "### The Data\n",
    "\n",
    "There are two different tables showing the characteristics and transaction information of the customers.\n",
    "\n",
    "#### users.csv"
   ]
  },
  {
   "cell_type": "markdown",
   "id": "5f9bc418",
   "metadata": {},
   "source": [
    "-----\n",
    "\n",
    "`users.csv` contains characteristics of customers"
   ]
  },
  {
   "cell_type": "markdown",
   "id": "187d4bfb",
   "metadata": {},
   "source": [
    "Column | Definition | Type of Variable\n",
    ":--- | :-----------: | :-----------------:\n",
    "uid | Unique ID belonging to customers | Numeric\n",
    "reg_date | Registration dates of customers | Numeric\n",
    "device | Devices used by customers ( Android, iOS ) | Nominal\n",
    "gender | Genders of customers | Nominal\n",
    "country | Countries where customers reside |Nominal\n",
    "age |  Ages of customers | Numeric"
   ]
  },
  {
   "cell_type": "markdown",
   "id": "fb17d1de",
   "metadata": {},
   "source": [
    "----\n",
    "----\n",
    "\n",
    "#### purchases.csv"
   ]
  },
  {
   "cell_type": "markdown",
   "id": "53b17aeb",
   "metadata": {},
   "source": [
    "`purchases.csv` contains transaction information of the customers.\n",
    "\n",
    "Column | Definiton\n",
    ":--- | :---------:\n",
    "uid | Unique ID belonging to every customer\n",
    "date | Purchase date of customer\n",
    "price |  Amount spent by customer"
   ]
  },
  {
   "cell_type": "markdown",
   "id": "3e221a7a",
   "metadata": {},
   "source": [
    "**Import libraries**"
   ]
  },
  {
   "cell_type": "code",
   "execution_count": 1,
   "id": "75109cbe",
   "metadata": {},
   "outputs": [],
   "source": [
    "import warnings\n",
    "import pandas as pd\n",
    "from matplotlib import pyplot as plt\n",
    "import seaborn as sns"
   ]
  },
  {
   "cell_type": "markdown",
   "id": "ee2527d4",
   "metadata": {},
   "source": [
    "**Read \"users.csv\" and \"purchases.csv\" files**"
   ]
  },
  {
   "cell_type": "code",
   "execution_count": 2,
   "id": "7088c32c",
   "metadata": {},
   "outputs": [],
   "source": [
    "users = pd.read_csv('Data/users.csv')\n",
    "purchases = pd.read_csv('Data/purchases.csv')"
   ]
  },
  {
   "cell_type": "markdown",
   "id": "3753a989",
   "metadata": {},
   "source": [
    "**Inner join both data files on \"uid\"**"
   ]
  },
  {
   "cell_type": "code",
   "execution_count": 3,
   "id": "a8430dda",
   "metadata": {},
   "outputs": [],
   "source": [
    "df = purchases.merge(users, how = \"inner\", on = \"uid\")"
   ]
  },
  {
   "cell_type": "markdown",
   "id": "0b729a0f",
   "metadata": {},
   "source": [
    "**Explore the DataFrame Properties and Head.**"
   ]
  },
  {
   "cell_type": "code",
   "execution_count": 4,
   "id": "f0b7d788",
   "metadata": {},
   "outputs": [
    {
     "data": {
      "text/html": [
       "<div>\n",
       "<style scoped>\n",
       "    .dataframe tbody tr th:only-of-type {\n",
       "        vertical-align: middle;\n",
       "    }\n",
       "\n",
       "    .dataframe tbody tr th {\n",
       "        vertical-align: top;\n",
       "    }\n",
       "\n",
       "    .dataframe thead th {\n",
       "        text-align: right;\n",
       "    }\n",
       "</style>\n",
       "<table border=\"1\" class=\"dataframe\">\n",
       "  <thead>\n",
       "    <tr style=\"text-align: right;\">\n",
       "      <th></th>\n",
       "      <th>date</th>\n",
       "      <th>uid</th>\n",
       "      <th>price</th>\n",
       "      <th>reg_date</th>\n",
       "      <th>device</th>\n",
       "      <th>gender</th>\n",
       "      <th>country</th>\n",
       "      <th>age</th>\n",
       "    </tr>\n",
       "  </thead>\n",
       "  <tbody>\n",
       "    <tr>\n",
       "      <th>0</th>\n",
       "      <td>2017-07-10</td>\n",
       "      <td>41195147</td>\n",
       "      <td>499</td>\n",
       "      <td>2017-06-26T00:00:00Z</td>\n",
       "      <td>and</td>\n",
       "      <td>M</td>\n",
       "      <td>BRA</td>\n",
       "      <td>17</td>\n",
       "    </tr>\n",
       "    <tr>\n",
       "      <th>1</th>\n",
       "      <td>2017-07-15</td>\n",
       "      <td>41195147</td>\n",
       "      <td>499</td>\n",
       "      <td>2017-06-26T00:00:00Z</td>\n",
       "      <td>and</td>\n",
       "      <td>M</td>\n",
       "      <td>BRA</td>\n",
       "      <td>17</td>\n",
       "    </tr>\n",
       "    <tr>\n",
       "      <th>2</th>\n",
       "      <td>2017-11-12</td>\n",
       "      <td>41195147</td>\n",
       "      <td>599</td>\n",
       "      <td>2017-06-26T00:00:00Z</td>\n",
       "      <td>and</td>\n",
       "      <td>M</td>\n",
       "      <td>BRA</td>\n",
       "      <td>17</td>\n",
       "    </tr>\n",
       "    <tr>\n",
       "      <th>3</th>\n",
       "      <td>2017-09-26</td>\n",
       "      <td>91591874</td>\n",
       "      <td>299</td>\n",
       "      <td>2017-01-05T00:00:00Z</td>\n",
       "      <td>and</td>\n",
       "      <td>M</td>\n",
       "      <td>TUR</td>\n",
       "      <td>17</td>\n",
       "    </tr>\n",
       "    <tr>\n",
       "      <th>4</th>\n",
       "      <td>2017-12-01</td>\n",
       "      <td>91591874</td>\n",
       "      <td>599</td>\n",
       "      <td>2017-01-05T00:00:00Z</td>\n",
       "      <td>and</td>\n",
       "      <td>M</td>\n",
       "      <td>TUR</td>\n",
       "      <td>17</td>\n",
       "    </tr>\n",
       "  </tbody>\n",
       "</table>\n",
       "</div>"
      ],
      "text/plain": [
       "         date       uid  price              reg_date device gender country  \\\n",
       "0  2017-07-10  41195147    499  2017-06-26T00:00:00Z    and      M     BRA   \n",
       "1  2017-07-15  41195147    499  2017-06-26T00:00:00Z    and      M     BRA   \n",
       "2  2017-11-12  41195147    599  2017-06-26T00:00:00Z    and      M     BRA   \n",
       "3  2017-09-26  91591874    299  2017-01-05T00:00:00Z    and      M     TUR   \n",
       "4  2017-12-01  91591874    599  2017-01-05T00:00:00Z    and      M     TUR   \n",
       "\n",
       "   age  \n",
       "0   17  \n",
       "1   17  \n",
       "2   17  \n",
       "3   17  \n",
       "4   17  "
      ]
     },
     "execution_count": 4,
     "metadata": {},
     "output_type": "execute_result"
    }
   ],
   "source": [
    "df.head()"
   ]
  },
  {
   "cell_type": "code",
   "execution_count": 5,
   "id": "2c51398e",
   "metadata": {},
   "outputs": [
    {
     "name": "stdout",
     "output_type": "stream",
     "text": [
      "<class 'pandas.core.frame.DataFrame'>\n",
      "Int64Index: 9006 entries, 0 to 9005\n",
      "Data columns (total 8 columns):\n",
      " #   Column    Non-Null Count  Dtype \n",
      "---  ------    --------------  ----- \n",
      " 0   date      9006 non-null   object\n",
      " 1   uid       9006 non-null   int64 \n",
      " 2   price     9006 non-null   int64 \n",
      " 3   reg_date  9006 non-null   object\n",
      " 4   device    9006 non-null   object\n",
      " 5   gender    9006 non-null   object\n",
      " 6   country   9006 non-null   object\n",
      " 7   age       9006 non-null   int64 \n",
      "dtypes: int64(3), object(5)\n",
      "memory usage: 633.2+ KB\n"
     ]
    }
   ],
   "source": [
    "df.info()"
   ]
  },
  {
   "cell_type": "markdown",
   "id": "c5735e53",
   "metadata": {},
   "source": [
    "## Part Two: Exploring Data Frame\n",
    "\n",
    "Let's first explore our dataframe and ask relevant questions to understand both tables much better"
   ]
  },
  {
   "cell_type": "markdown",
   "id": "d8fdf445",
   "metadata": {},
   "source": [
    "**How many unique customers are in the dataset?**"
   ]
  },
  {
   "cell_type": "code",
   "execution_count": 6,
   "id": "ac3a44a0",
   "metadata": {},
   "outputs": [
    {
     "data": {
      "text/plain": [
       "1322"
      ]
     },
     "execution_count": 6,
     "metadata": {},
     "output_type": "execute_result"
    }
   ],
   "source": [
    "df[\"uid\"].nunique()"
   ]
  },
  {
   "cell_type": "markdown",
   "id": "699ec27e",
   "metadata": {},
   "source": [
    "**How many unique prices in the dataset?**"
   ]
  },
  {
   "cell_type": "code",
   "execution_count": 7,
   "id": "2614d747",
   "metadata": {},
   "outputs": [
    {
     "data": {
      "text/plain": [
       "6"
      ]
     },
     "execution_count": 7,
     "metadata": {},
     "output_type": "execute_result"
    }
   ],
   "source": [
    "df[\"price\"].nunique()"
   ]
  },
  {
   "cell_type": "markdown",
   "id": "f822143b",
   "metadata": {},
   "source": [
    "**What are the total sales for each price tag?**"
   ]
  },
  {
   "cell_type": "code",
   "execution_count": 8,
   "id": "68f3eff1",
   "metadata": {},
   "outputs": [
    {
     "data": {
      "text/plain": [
       "299    2347\n",
       "499    2242\n",
       "599    1848\n",
       "199    1840\n",
       "899     372\n",
       "99      357\n",
       "Name: price, dtype: int64"
      ]
     },
     "execution_count": 8,
     "metadata": {},
     "output_type": "execute_result"
    }
   ],
   "source": [
    "df[\"price\"].value_counts()"
   ]
  },
  {
   "cell_type": "markdown",
   "id": "e1053313",
   "metadata": {},
   "source": [
    "**What is the total amount of sales for each country?**"
   ]
  },
  {
   "cell_type": "code",
   "execution_count": 9,
   "id": "a4c01589",
   "metadata": {},
   "outputs": [
    {
     "data": {
      "text/plain": [
       "USA    3650\n",
       "BRA    2694\n",
       "DEU     915\n",
       "TUR     804\n",
       "FRA     544\n",
       "CAN     399\n",
       "Name: country, dtype: int64"
      ]
     },
     "execution_count": 9,
     "metadata": {},
     "output_type": "execute_result"
    }
   ],
   "source": [
    "df[\"country\"].value_counts()"
   ]
  },
  {
   "cell_type": "markdown",
   "id": "5b20b598",
   "metadata": {},
   "source": [
    "**Net sales for each country**"
   ]
  },
  {
   "cell_type": "code",
   "execution_count": 10,
   "id": "6554dbcd",
   "metadata": {},
   "outputs": [
    {
     "data": {
      "image/png": "[encoded data removed]",
      "text/plain": [
       "<Figure size 1500x600 with 1 Axes>"
      ]
     },
     "metadata": {
      "needs_background": "light"
     },
     "output_type": "display_data"
    }
   ],
   "source": [
    "#Plot Configurations\n",
    "plt.figure(figsize=(10,4),dpi=150)\n",
    "#Plot Logic\n",
    "total_sales = df.groupby([\"country\"]).agg({\"price\": \"sum\"}).sort_values('price', ascending=False) \n",
    "total_sales.reset_index(inplace=True)\n",
    "sns.barplot(x='country', y='price', data=total_sales, palette='magma').set(title='Sales by countries');"
   ]
  },
  {
   "cell_type": "code",
   "execution_count": 11,
   "id": "fb660f54",
   "metadata": {},
   "outputs": [
    {
     "data": {
      "text/html": [
       "<div>\n",
       "<style scoped>\n",
       "    .dataframe tbody tr th:only-of-type {\n",
       "        vertical-align: middle;\n",
       "    }\n",
       "\n",
       "    .dataframe tbody tr th {\n",
       "        vertical-align: top;\n",
       "    }\n",
       "\n",
       "    .dataframe thead th {\n",
       "        text-align: right;\n",
       "    }\n",
       "</style>\n",
       "<table border=\"1\" class=\"dataframe\">\n",
       "  <thead>\n",
       "    <tr style=\"text-align: right;\">\n",
       "      <th></th>\n",
       "      <th>country</th>\n",
       "      <th>price</th>\n",
       "    </tr>\n",
       "  </thead>\n",
       "  <tbody>\n",
       "    <tr>\n",
       "      <th>0</th>\n",
       "      <td>USA</td>\n",
       "      <td>1473550</td>\n",
       "    </tr>\n",
       "    <tr>\n",
       "      <th>1</th>\n",
       "      <td>BRA</td>\n",
       "      <td>1104106</td>\n",
       "    </tr>\n",
       "    <tr>\n",
       "      <th>2</th>\n",
       "      <td>DEU</td>\n",
       "      <td>374285</td>\n",
       "    </tr>\n",
       "    <tr>\n",
       "      <th>3</th>\n",
       "      <td>TUR</td>\n",
       "      <td>333996</td>\n",
       "    </tr>\n",
       "    <tr>\n",
       "      <th>4</th>\n",
       "      <td>FRA</td>\n",
       "      <td>218556</td>\n",
       "    </tr>\n",
       "    <tr>\n",
       "      <th>5</th>\n",
       "      <td>CAN</td>\n",
       "      <td>158901</td>\n",
       "    </tr>\n",
       "  </tbody>\n",
       "</table>\n",
       "</div>"
      ],
      "text/plain": [
       "  country    price\n",
       "0     USA  1473550\n",
       "1     BRA  1104106\n",
       "2     DEU   374285\n",
       "3     TUR   333996\n",
       "4     FRA   218556\n",
       "5     CAN   158901"
      ]
     },
     "execution_count": 11,
     "metadata": {},
     "output_type": "execute_result"
    }
   ],
   "source": [
    "total_sales"
   ]
  },
  {
   "cell_type": "markdown",
   "id": "33066a5e",
   "metadata": {},
   "source": [
    "**Net total sales for each OS(Operating System)**"
   ]
  },
  {
   "cell_type": "code",
   "execution_count": 12,
   "id": "6c4d7ff0",
   "metadata": {
    "scrolled": false
   },
   "outputs": [
    {
     "data": {
      "image/png": "[encoded data removed]",
      "text/plain": [
       "<Figure size 1500x600 with 1 Axes>"
      ]
     },
     "metadata": {
      "needs_background": "light"
     },
     "output_type": "display_data"
    }
   ],
   "source": [
    "#Plot Configurations\n",
    "plt.figure(figsize=(10,4),dpi=150)\n",
    "#Plot Logic\n",
    "device_price = df.groupby([\"device\"]).agg({\"price\": \"sum\"}).sort_values('price', ascending=False) \n",
    "device_price.reset_index(inplace=True)\n",
    "sns.barplot(x='device', y='price', data=device_price, palette='magma');\n",
    "plt.show()"
   ]
  },
  {
   "cell_type": "markdown",
   "id": "edb15753",
   "metadata": {},
   "source": [
    "**Net mean sales for each OS(Operating System)**"
   ]
  },
  {
   "cell_type": "code",
   "execution_count": 13,
   "id": "4bfaa08a",
   "metadata": {},
   "outputs": [
    {
     "data": {
      "image/png": "[encoded data removed]",
      "text/plain": [
       "<Figure size 1500x600 with 1 Axes>"
      ]
     },
     "metadata": {
      "needs_background": "light"
     },
     "output_type": "display_data"
    }
   ],
   "source": [
    "#Plot Configurations\n",
    "plt.figure(figsize=(10,4),dpi=150)\n",
    "#Plot Logic\n",
    "device_price = df.groupby([\"device\"]).agg({\"price\": \"mean\"}).sort_values('price', ascending=False) \n",
    "device_price.reset_index(inplace=True)\n",
    "sns.barplot(x='device', y='price', data=device_price, palette='magma');\n",
    "plt.show()"
   ]
  },
  {
   "cell_type": "markdown",
   "id": "408d1b83",
   "metadata": {},
   "source": [
    "**Mean sales by each country**"
   ]
  },
  {
   "cell_type": "code",
   "execution_count": 14,
   "id": "40e12a77",
   "metadata": {
    "scrolled": true
   },
   "outputs": [
    {
     "data": {
      "image/png": "[encoded data removed]",
      "text/plain": [
       "<Figure size 1950x600 with 1 Axes>"
      ]
     },
     "metadata": {
      "needs_background": "light"
     },
     "output_type": "display_data"
    }
   ],
   "source": [
    "#Plot Configurations\n",
    "plt.figure(figsize=(13,4),dpi=150)\n",
    "#Plot Logic\n",
    "country_sales = df.groupby([\"country\"]).agg({\"price\": \"mean\"}).sort_values('price', ascending=False) \n",
    "country_sales.reset_index(inplace=True)\n",
    "sns.barplot(x='country', y='price', data=country_sales, palette='magma');"
   ]
  },
  {
   "cell_type": "markdown",
   "id": "86e1dd33",
   "metadata": {},
   "source": [
    "**Total earnings in \"country\", \"device\", \"gender\" and \"age\" breakdown**"
   ]
  },
  {
   "cell_type": "code",
   "execution_count": 15,
   "id": "370728cb",
   "metadata": {},
   "outputs": [
    {
     "data": {
      "text/html": [
       "<div>\n",
       "<style scoped>\n",
       "    .dataframe tbody tr th:only-of-type {\n",
       "        vertical-align: middle;\n",
       "    }\n",
       "\n",
       "    .dataframe tbody tr th {\n",
       "        vertical-align: top;\n",
       "    }\n",
       "\n",
       "    .dataframe thead th {\n",
       "        text-align: right;\n",
       "    }\n",
       "</style>\n",
       "<table border=\"1\" class=\"dataframe\">\n",
       "  <thead>\n",
       "    <tr style=\"text-align: right;\">\n",
       "      <th></th>\n",
       "      <th>country</th>\n",
       "      <th>device</th>\n",
       "      <th>gender</th>\n",
       "      <th>age</th>\n",
       "      <th>price</th>\n",
       "    </tr>\n",
       "  </thead>\n",
       "  <tbody>\n",
       "    <tr>\n",
       "      <th>0</th>\n",
       "      <td>BRA</td>\n",
       "      <td>and</td>\n",
       "      <td>F</td>\n",
       "      <td>15</td>\n",
       "      <td>33824</td>\n",
       "    </tr>\n",
       "    <tr>\n",
       "      <th>1</th>\n",
       "      <td>BRA</td>\n",
       "      <td>and</td>\n",
       "      <td>F</td>\n",
       "      <td>16</td>\n",
       "      <td>31619</td>\n",
       "    </tr>\n",
       "    <tr>\n",
       "      <th>2</th>\n",
       "      <td>BRA</td>\n",
       "      <td>and</td>\n",
       "      <td>F</td>\n",
       "      <td>17</td>\n",
       "      <td>20352</td>\n",
       "    </tr>\n",
       "    <tr>\n",
       "      <th>3</th>\n",
       "      <td>BRA</td>\n",
       "      <td>and</td>\n",
       "      <td>F</td>\n",
       "      <td>18</td>\n",
       "      <td>20047</td>\n",
       "    </tr>\n",
       "    <tr>\n",
       "      <th>4</th>\n",
       "      <td>BRA</td>\n",
       "      <td>and</td>\n",
       "      <td>F</td>\n",
       "      <td>19</td>\n",
       "      <td>21352</td>\n",
       "    </tr>\n",
       "    <tr>\n",
       "      <th>...</th>\n",
       "      <td>...</td>\n",
       "      <td>...</td>\n",
       "      <td>...</td>\n",
       "      <td>...</td>\n",
       "      <td>...</td>\n",
       "    </tr>\n",
       "    <tr>\n",
       "      <th>445</th>\n",
       "      <td>USA</td>\n",
       "      <td>iOS</td>\n",
       "      <td>M</td>\n",
       "      <td>52</td>\n",
       "      <td>2793</td>\n",
       "    </tr>\n",
       "    <tr>\n",
       "      <th>446</th>\n",
       "      <td>USA</td>\n",
       "      <td>iOS</td>\n",
       "      <td>M</td>\n",
       "      <td>53</td>\n",
       "      <td>798</td>\n",
       "    </tr>\n",
       "    <tr>\n",
       "      <th>447</th>\n",
       "      <td>USA</td>\n",
       "      <td>iOS</td>\n",
       "      <td>M</td>\n",
       "      <td>55</td>\n",
       "      <td>3094</td>\n",
       "    </tr>\n",
       "    <tr>\n",
       "      <th>448</th>\n",
       "      <td>USA</td>\n",
       "      <td>iOS</td>\n",
       "      <td>M</td>\n",
       "      <td>59</td>\n",
       "      <td>2396</td>\n",
       "    </tr>\n",
       "    <tr>\n",
       "      <th>449</th>\n",
       "      <td>USA</td>\n",
       "      <td>iOS</td>\n",
       "      <td>M</td>\n",
       "      <td>75</td>\n",
       "      <td>1196</td>\n",
       "    </tr>\n",
       "  </tbody>\n",
       "</table>\n",
       "<p>450 rows × 5 columns</p>\n",
       "</div>"
      ],
      "text/plain": [
       "    country device gender  age  price\n",
       "0       BRA    and      F   15  33824\n",
       "1       BRA    and      F   16  31619\n",
       "2       BRA    and      F   17  20352\n",
       "3       BRA    and      F   18  20047\n",
       "4       BRA    and      F   19  21352\n",
       "..      ...    ...    ...  ...    ...\n",
       "445     USA    iOS      M   52   2793\n",
       "446     USA    iOS      M   53    798\n",
       "447     USA    iOS      M   55   3094\n",
       "448     USA    iOS      M   59   2396\n",
       "449     USA    iOS      M   75   1196\n",
       "\n",
       "[450 rows x 5 columns]"
      ]
     },
     "execution_count": 15,
     "metadata": {},
     "output_type": "execute_result"
    }
   ],
   "source": [
    "agg_df = df.groupby([\"country\", \"device\", \"gender\", \"age\"]).agg({\"price\": \"sum\"})\n",
    "agg_df.sort_values(\"price\", ascending = False)\n",
    "agg_df.reset_index(inplace = True)\n",
    "agg_df"
   ]
  },
  {
   "cell_type": "markdown",
   "id": "3854c0b3",
   "metadata": {},
   "source": [
    "**Create range of ages as \"agg_df\" to profile customers more accurately**"
   ]
  },
  {
   "cell_type": "code",
   "execution_count": 16,
   "id": "20a3c9c2",
   "metadata": {},
   "outputs": [
    {
     "name": "stdout",
     "output_type": "stream",
     "text": [
      "   age age_cat\n",
      "0   15    0_18\n",
      "1   16    0_18\n",
      "2   17    0_18\n",
      "3   18    0_18\n",
      "4   19   18_25\n"
     ]
    }
   ],
   "source": [
    "agg_df[\"age_cat\"] = pd.cut(agg_df[\"age\"], \n",
    "                           [0, 18, 25, 35, 50, 65, 80],\n",
    "                           labels = [\"0_18\",\"18_25\",\"25_35\",\"35_50\",\"50_65\",\"65_80\"])\n",
    "print(agg_df[[\"age\", \"age_cat\"]].head())"
   ]
  },
  {
   "cell_type": "code",
   "execution_count": 17,
   "id": "48e09787",
   "metadata": {},
   "outputs": [
    {
     "data": {
      "image/png": "[encoded data removed]",
      "text/plain": [
       "<Figure size 2600x800 with 1 Axes>"
      ]
     },
     "metadata": {
      "needs_background": "light"
     },
     "output_type": "display_data"
    }
   ],
   "source": [
    "sns.set_palette(\"magma\");\n",
    "plt.figure(figsize=(13,4),dpi=200)\n",
    "\n",
    "sns.histplot(agg_df[\"age\"]);"
   ]
  },
  {
   "cell_type": "markdown",
   "id": "3d905713",
   "metadata": {},
   "source": [
    "**Create new level based customers and add them into the data set as variables.**"
   ]
  },
  {
   "cell_type": "code",
   "execution_count": 18,
   "id": "7bf97456",
   "metadata": {},
   "outputs": [
    {
     "data": {
      "text/html": [
       "<div>\n",
       "<style scoped>\n",
       "    .dataframe tbody tr th:only-of-type {\n",
       "        vertical-align: middle;\n",
       "    }\n",
       "\n",
       "    .dataframe tbody tr th {\n",
       "        vertical-align: top;\n",
       "    }\n",
       "\n",
       "    .dataframe thead th {\n",
       "        text-align: right;\n",
       "    }\n",
       "</style>\n",
       "<table border=\"1\" class=\"dataframe\">\n",
       "  <thead>\n",
       "    <tr style=\"text-align: right;\">\n",
       "      <th></th>\n",
       "      <th>country</th>\n",
       "      <th>device</th>\n",
       "      <th>gender</th>\n",
       "      <th>age</th>\n",
       "      <th>price</th>\n",
       "      <th>age_cat</th>\n",
       "      <th>customers_level_based</th>\n",
       "    </tr>\n",
       "  </thead>\n",
       "  <tbody>\n",
       "    <tr>\n",
       "      <th>0</th>\n",
       "      <td>BRA</td>\n",
       "      <td>and</td>\n",
       "      <td>F</td>\n",
       "      <td>15</td>\n",
       "      <td>33824</td>\n",
       "      <td>0_18</td>\n",
       "      <td>BRA_AND_F_0_18</td>\n",
       "    </tr>\n",
       "    <tr>\n",
       "      <th>1</th>\n",
       "      <td>BRA</td>\n",
       "      <td>and</td>\n",
       "      <td>F</td>\n",
       "      <td>16</td>\n",
       "      <td>31619</td>\n",
       "      <td>0_18</td>\n",
       "      <td>BRA_AND_F_0_18</td>\n",
       "    </tr>\n",
       "    <tr>\n",
       "      <th>2</th>\n",
       "      <td>BRA</td>\n",
       "      <td>and</td>\n",
       "      <td>F</td>\n",
       "      <td>17</td>\n",
       "      <td>20352</td>\n",
       "      <td>0_18</td>\n",
       "      <td>BRA_AND_F_0_18</td>\n",
       "    </tr>\n",
       "    <tr>\n",
       "      <th>3</th>\n",
       "      <td>BRA</td>\n",
       "      <td>and</td>\n",
       "      <td>F</td>\n",
       "      <td>18</td>\n",
       "      <td>20047</td>\n",
       "      <td>0_18</td>\n",
       "      <td>BRA_AND_F_0_18</td>\n",
       "    </tr>\n",
       "    <tr>\n",
       "      <th>4</th>\n",
       "      <td>BRA</td>\n",
       "      <td>and</td>\n",
       "      <td>F</td>\n",
       "      <td>19</td>\n",
       "      <td>21352</td>\n",
       "      <td>18_25</td>\n",
       "      <td>BRA_AND_F_18_25</td>\n",
       "    </tr>\n",
       "  </tbody>\n",
       "</table>\n",
       "</div>"
      ],
      "text/plain": [
       "  country device gender  age  price age_cat customers_level_based\n",
       "0     BRA    and      F   15  33824    0_18        BRA_AND_F_0_18\n",
       "1     BRA    and      F   16  31619    0_18        BRA_AND_F_0_18\n",
       "2     BRA    and      F   17  20352    0_18        BRA_AND_F_0_18\n",
       "3     BRA    and      F   18  20047    0_18        BRA_AND_F_0_18\n",
       "4     BRA    and      F   19  21352   18_25       BRA_AND_F_18_25"
      ]
     },
     "execution_count": 18,
     "metadata": {},
     "output_type": "execute_result"
    }
   ],
   "source": [
    "agg_df[\"customers_level_based\"] = [row[0] + \"_\" + row[1].upper() + \"_\" + row[2] + \"_\" + row[5] for row in agg_df.values]\n",
    "agg_df.head()"
   ]
  },
  {
   "cell_type": "markdown",
   "id": "82e41941",
   "metadata": {},
   "source": [
    "**FinalTable**"
   ]
  },
  {
   "cell_type": "code",
   "execution_count": 19,
   "id": "c6009ecd",
   "metadata": {},
   "outputs": [
    {
     "data": {
      "text/html": [
       "<div>\n",
       "<style scoped>\n",
       "    .dataframe tbody tr th:only-of-type {\n",
       "        vertical-align: middle;\n",
       "    }\n",
       "\n",
       "    .dataframe tbody tr th {\n",
       "        vertical-align: top;\n",
       "    }\n",
       "\n",
       "    .dataframe thead th {\n",
       "        text-align: right;\n",
       "    }\n",
       "</style>\n",
       "<table border=\"1\" class=\"dataframe\">\n",
       "  <thead>\n",
       "    <tr style=\"text-align: right;\">\n",
       "      <th></th>\n",
       "      <th>customers_level_based</th>\n",
       "      <th>price</th>\n",
       "    </tr>\n",
       "  </thead>\n",
       "  <tbody>\n",
       "    <tr>\n",
       "      <th>0</th>\n",
       "      <td>BRA_AND_F_0_18</td>\n",
       "      <td>33824</td>\n",
       "    </tr>\n",
       "    <tr>\n",
       "      <th>1</th>\n",
       "      <td>BRA_AND_F_0_18</td>\n",
       "      <td>31619</td>\n",
       "    </tr>\n",
       "    <tr>\n",
       "      <th>2</th>\n",
       "      <td>BRA_AND_F_0_18</td>\n",
       "      <td>20352</td>\n",
       "    </tr>\n",
       "    <tr>\n",
       "      <th>3</th>\n",
       "      <td>BRA_AND_F_0_18</td>\n",
       "      <td>20047</td>\n",
       "    </tr>\n",
       "    <tr>\n",
       "      <th>4</th>\n",
       "      <td>BRA_AND_F_18_25</td>\n",
       "      <td>21352</td>\n",
       "    </tr>\n",
       "  </tbody>\n",
       "</table>\n",
       "</div>"
      ],
      "text/plain": [
       "  customers_level_based  price\n",
       "0        BRA_AND_F_0_18  33824\n",
       "1        BRA_AND_F_0_18  31619\n",
       "2        BRA_AND_F_0_18  20352\n",
       "3        BRA_AND_F_0_18  20047\n",
       "4       BRA_AND_F_18_25  21352"
      ]
     },
     "execution_count": 19,
     "metadata": {},
     "output_type": "execute_result"
    }
   ],
   "source": [
    "agg_df = agg_df[[\"customers_level_based\", \"price\"]]\n",
    "agg_df.head()"
   ]
  },
  {
   "cell_type": "markdown",
   "id": "6f09c19a",
   "metadata": {},
   "source": [
    "**Segment new customers according to price, add them to agg_df with the segment naming**"
   ]
  },
  {
   "cell_type": "code",
   "execution_count": 20,
   "id": "cedb973a",
   "metadata": {},
   "outputs": [
    {
     "name": "stderr",
     "output_type": "stream",
     "text": [
      "C:\\Users\\STUDENT1\\AppData\\Local\\Temp/ipykernel_22740/2860072825.py:1: SettingWithCopyWarning: \n",
      "A value is trying to be set on a copy of a slice from a DataFrame.\n",
      "Try using .loc[row_indexer,col_indexer] = value instead\n",
      "\n",
      "See the caveats in the documentation: https://pandas.pydata.org/pandas-docs/stable/user_guide/indexing.html#returning-a-view-versus-a-copy\n",
      "  agg_df[\"segment\"] = pd.qcut(agg_df[\"price\"], 4, labels=[\"D\", \"C\", \"B\", \"A\"])\n"
     ]
    },
    {
     "data": {
      "text/html": [
       "<div>\n",
       "<style scoped>\n",
       "    .dataframe tbody tr th:only-of-type {\n",
       "        vertical-align: middle;\n",
       "    }\n",
       "\n",
       "    .dataframe tbody tr th {\n",
       "        vertical-align: top;\n",
       "    }\n",
       "\n",
       "    .dataframe thead th {\n",
       "        text-align: right;\n",
       "    }\n",
       "</style>\n",
       "<table border=\"1\" class=\"dataframe\">\n",
       "  <thead>\n",
       "    <tr style=\"text-align: right;\">\n",
       "      <th></th>\n",
       "      <th>customers_level_based</th>\n",
       "      <th>price</th>\n",
       "      <th>segment</th>\n",
       "    </tr>\n",
       "  </thead>\n",
       "  <tbody>\n",
       "    <tr>\n",
       "      <th>0</th>\n",
       "      <td>BRA_AND_F_0_18</td>\n",
       "      <td>33824</td>\n",
       "      <td>A</td>\n",
       "    </tr>\n",
       "    <tr>\n",
       "      <th>1</th>\n",
       "      <td>BRA_AND_F_0_18</td>\n",
       "      <td>31619</td>\n",
       "      <td>A</td>\n",
       "    </tr>\n",
       "    <tr>\n",
       "      <th>2</th>\n",
       "      <td>BRA_AND_F_0_18</td>\n",
       "      <td>20352</td>\n",
       "      <td>A</td>\n",
       "    </tr>\n",
       "    <tr>\n",
       "      <th>3</th>\n",
       "      <td>BRA_AND_F_0_18</td>\n",
       "      <td>20047</td>\n",
       "      <td>A</td>\n",
       "    </tr>\n",
       "    <tr>\n",
       "      <th>4</th>\n",
       "      <td>BRA_AND_F_18_25</td>\n",
       "      <td>21352</td>\n",
       "      <td>A</td>\n",
       "    </tr>\n",
       "  </tbody>\n",
       "</table>\n",
       "</div>"
      ],
      "text/plain": [
       "  customers_level_based  price segment\n",
       "0        BRA_AND_F_0_18  33824       A\n",
       "1        BRA_AND_F_0_18  31619       A\n",
       "2        BRA_AND_F_0_18  20352       A\n",
       "3        BRA_AND_F_0_18  20047       A\n",
       "4       BRA_AND_F_18_25  21352       A"
      ]
     },
     "execution_count": 20,
     "metadata": {},
     "output_type": "execute_result"
    }
   ],
   "source": [
    "agg_df[\"segment\"] = pd.qcut(agg_df[\"price\"], 4, labels=[\"D\", \"C\", \"B\", \"A\"])\n",
    "agg_df.head()"
   ]
  },
  {
   "cell_type": "markdown",
   "id": "2600ffb7",
   "metadata": {},
   "source": [
    "**Description statistics of the segments**"
   ]
  },
  {
   "cell_type": "code",
   "execution_count": 21,
   "id": "261475ec",
   "metadata": {},
   "outputs": [
    {
     "data": {
      "text/html": [
       "<div>\n",
       "<style scoped>\n",
       "    .dataframe tbody tr th:only-of-type {\n",
       "        vertical-align: middle;\n",
       "    }\n",
       "\n",
       "    .dataframe tbody tr th {\n",
       "        vertical-align: top;\n",
       "    }\n",
       "\n",
       "    .dataframe thead tr th {\n",
       "        text-align: left;\n",
       "    }\n",
       "\n",
       "    .dataframe thead tr:last-of-type th {\n",
       "        text-align: right;\n",
       "    }\n",
       "</style>\n",
       "<table border=\"1\" class=\"dataframe\">\n",
       "  <thead>\n",
       "    <tr>\n",
       "      <th></th>\n",
       "      <th colspan=\"6\" halign=\"left\">price</th>\n",
       "    </tr>\n",
       "    <tr>\n",
       "      <th></th>\n",
       "      <th>count</th>\n",
       "      <th>min</th>\n",
       "      <th>max</th>\n",
       "      <th>mean</th>\n",
       "      <th>std</th>\n",
       "      <th>sum</th>\n",
       "    </tr>\n",
       "    <tr>\n",
       "      <th>segment</th>\n",
       "      <th></th>\n",
       "      <th></th>\n",
       "      <th></th>\n",
       "      <th></th>\n",
       "      <th></th>\n",
       "      <th></th>\n",
       "    </tr>\n",
       "  </thead>\n",
       "  <tbody>\n",
       "    <tr>\n",
       "      <th>A</th>\n",
       "      <td>113</td>\n",
       "      <td>10278</td>\n",
       "      <td>61550</td>\n",
       "      <td>20080.150442</td>\n",
       "      <td>9137.437316</td>\n",
       "      <td>2269057</td>\n",
       "    </tr>\n",
       "    <tr>\n",
       "      <th>B</th>\n",
       "      <td>112</td>\n",
       "      <td>5487</td>\n",
       "      <td>10276</td>\n",
       "      <td>7447.812500</td>\n",
       "      <td>1344.693036</td>\n",
       "      <td>834155</td>\n",
       "    </tr>\n",
       "    <tr>\n",
       "      <th>C</th>\n",
       "      <td>111</td>\n",
       "      <td>2296</td>\n",
       "      <td>5386</td>\n",
       "      <td>3675.504505</td>\n",
       "      <td>886.627152</td>\n",
       "      <td>407981</td>\n",
       "    </tr>\n",
       "    <tr>\n",
       "      <th>D</th>\n",
       "      <td>114</td>\n",
       "      <td>99</td>\n",
       "      <td>2295</td>\n",
       "      <td>1335.096491</td>\n",
       "      <td>627.642858</td>\n",
       "      <td>152201</td>\n",
       "    </tr>\n",
       "  </tbody>\n",
       "</table>\n",
       "</div>"
      ],
      "text/plain": [
       "        price                                                  \n",
       "        count    min    max          mean          std      sum\n",
       "segment                                                        \n",
       "A         113  10278  61550  20080.150442  9137.437316  2269057\n",
       "B         112   5487  10276   7447.812500  1344.693036   834155\n",
       "C         111   2296   5386   3675.504505   886.627152   407981\n",
       "D         114     99   2295   1335.096491   627.642858   152201"
      ]
     },
     "execution_count": 21,
     "metadata": {},
     "output_type": "execute_result"
    }
   ],
   "source": [
    "agg_df.groupby(\"segment\").agg({\"price\": [\"count\",\"min\",\"max\",\"mean\",\"std\",\"sum\"]}).sort_values(\"segment\", ascending=False)"
   ]
  },
  {
   "cell_type": "markdown",
   "id": "ddab6d90",
   "metadata": {},
   "source": [
    "**EXAMPLE SEGMENTATION**\n",
    "\n",
    "**Which segment(s) a 42-year-old Turkish woman who uses IOS belongs to?**"
   ]
  },
  {
   "cell_type": "code",
   "execution_count": 22,
   "id": "0702ecb7",
   "metadata": {},
   "outputs": [
    {
     "data": {
      "text/html": [
       "<div>\n",
       "<style scoped>\n",
       "    .dataframe tbody tr th:only-of-type {\n",
       "        vertical-align: middle;\n",
       "    }\n",
       "\n",
       "    .dataframe tbody tr th {\n",
       "        vertical-align: top;\n",
       "    }\n",
       "\n",
       "    .dataframe thead th {\n",
       "        text-align: right;\n",
       "    }\n",
       "</style>\n",
       "<table border=\"1\" class=\"dataframe\">\n",
       "  <thead>\n",
       "    <tr style=\"text-align: right;\">\n",
       "      <th></th>\n",
       "      <th>customers_level_based</th>\n",
       "      <th>price</th>\n",
       "      <th>segment</th>\n",
       "    </tr>\n",
       "  </thead>\n",
       "  <tbody>\n",
       "    <tr>\n",
       "      <th>315</th>\n",
       "      <td>TUR_IOS_F_35_50</td>\n",
       "      <td>599</td>\n",
       "      <td>D</td>\n",
       "    </tr>\n",
       "    <tr>\n",
       "      <th>316</th>\n",
       "      <td>TUR_IOS_F_35_50</td>\n",
       "      <td>2591</td>\n",
       "      <td>C</td>\n",
       "    </tr>\n",
       "  </tbody>\n",
       "</table>\n",
       "</div>"
      ],
      "text/plain": [
       "    customers_level_based  price segment\n",
       "315       TUR_IOS_F_35_50    599       D\n",
       "316       TUR_IOS_F_35_50   2591       C"
      ]
     },
     "execution_count": 22,
     "metadata": {},
     "output_type": "execute_result"
    }
   ],
   "source": [
    "new_user = \"TUR_IOS_F_35_50\"\n",
    "agg_df[agg_df[\"customers_level_based\"] == new_user]"
   ]
  }
 ],
 "metadata": {
  "kernelspec": {
   "display_name": "Python 3 (ipykernel)",
   "language": "python",
   "name": "python3"
  },
  "language_info": {
   "codemirror_mode": {
    "name": "ipython",
    "version": 3
   },
   "file_extension": ".py",
   "mimetype": "text/x-python",
   "name": "python",
   "nbconvert_exporter": "python",
   "pygments_lexer": "ipython3",
   "version": "3.9.7"
  }
 },
 "nbformat": 4,
 "nbformat_minor": 5
}
